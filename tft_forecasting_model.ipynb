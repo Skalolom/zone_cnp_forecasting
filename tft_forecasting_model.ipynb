{
 "cells": [
  {
   "cell_type": "code",
   "execution_count": 1,
   "metadata": {
    "gradient": {
     "editing": false,
     "id": "079fcf35-3bbc-4369-8fd6-f10f210fa976",
     "kernelId": "7d709460-bc6b-48fd-b97e-d8f40f5fd87b"
    },
    "tags": []
   },
   "outputs": [
    {
     "data": {
      "text/plain": "                      ds  cnp_np  cnp_se  cnp_se1  cnp_se2  cnp_se3  cnp_se4  \\\n8976 2021-12-10 00:00:00   52.59   18.30     1.47     2.04    11.56     3.24   \n8977 2021-12-10 01:00:00   51.52   17.92     1.35     2.07    11.32     3.19   \n8978 2021-12-10 02:00:00   50.81   17.48     1.17     2.01    11.18     3.13   \n8979 2021-12-10 03:00:00   51.06   17.65     1.35     2.03    11.13     3.14   \n8980 2021-12-10 04:00:00   51.65   17.87     1.46     2.04    11.19     3.18   \n8981 2021-12-10 05:00:00   53.58   18.39     1.43     2.13    11.50     3.33   \n8982 2021-12-10 06:00:00   57.52   20.17     1.59     2.40    12.49     3.69   \n8983 2021-12-10 07:00:00   60.98   21.60     1.54     2.44    13.61     4.01   \n8984 2021-12-10 08:00:00   61.65   21.85     1.60     2.31    13.83     4.11   \n8985 2021-12-10 09:00:00   61.42   21.90     1.59     2.25    13.94     4.12   \n8986 2021-12-10 10:00:00   61.81   22.26     1.70     2.45    13.95     4.16   \n8987 2021-12-10 11:00:00   61.59   22.38     1.74     2.52    14.00     4.12   \n8988 2021-12-10 12:00:00   61.31   22.23     1.64     2.51    14.01     4.07   \n8989 2021-12-10 13:00:00   60.89   21.80     1.47     2.55    13.76     4.03   \n8990 2021-12-10 14:00:00   60.63   21.74     1.47     2.67    13.62     3.98   \n8991 2021-12-10 15:00:00   61.11   22.04     1.75     2.58    13.72     3.99   \n8992 2021-12-10 16:00:00   61.11   21.66     1.55     2.41    13.66     4.03   \n8993 2021-12-10 17:00:00   60.56   21.31     1.44     2.30    13.61     3.96   \n8994 2021-12-10 18:00:00   59.54   20.88     1.45     2.27    13.29     3.87   \n8995 2021-12-10 19:00:00   57.96   20.35     1.44     2.26    12.99     3.66   \n8996 2021-12-10 20:00:00   56.29   19.81     1.41     2.30    12.61     3.50   \n8997 2021-12-10 21:00:00   55.26   19.11     1.33     2.27    12.11     3.40   \n8998 2021-12-10 22:00:00   53.48   18.42     1.33     2.14    11.69     3.26   \n8999 2021-12-10 23:00:00   51.66   17.79     1.30     2.06    11.30     3.13   \n\n      cnp_no  cnp_no1  cnp_no2  cnp_no3  cnp_dk  cnp_dk1  cnp_dk2  cnp_fi  \n8976   18.45     5.04     4.91     3.62    3.96     2.38     1.58   11.87  \n8977   18.09     4.89     4.81     3.61    3.82     2.31     1.51   11.69  \n8978   17.96     4.85     4.78     3.61    3.73     2.25     1.48   11.64  \n8979   17.91     4.80     4.77     3.60    3.75     2.27     1.47   11.75  \n8980   17.90     4.80     4.75     3.56    3.79     2.31     1.48   12.10  \n8981   18.33     4.96     4.85     3.66    4.01     2.46     1.55   12.84  \n8982   19.52     5.45     5.16     3.82    4.65     2.87     1.78   13.17  \n8983   20.78     5.99     5.43     4.03    5.26     3.26     2.00   13.35  \n8984   21.12     6.22     5.48     4.03    5.49     3.41     2.08   13.19  \n8985   21.05     6.20     5.45     4.04    5.46     3.34     2.12   13.01  \n8986   20.99     6.17     5.48     4.06    5.52     3.35     2.17   13.04  \n8987   20.77     6.18     5.50     4.00    5.47     3.30     2.17   12.97  \n8988   20.78     6.16     5.42     4.08    5.37     3.21     2.15   12.94  \n8989   20.85     6.13     5.49     4.10    5.30     3.15     2.15   12.94  \n8990   20.76     6.13     5.53     4.02    5.11     3.00     2.11   13.03  \n8991   20.89     6.12     5.56     4.04    5.14     2.99     2.15   13.05  \n8992   21.07     6.10     5.61     4.11    5.38     3.15     2.23   13.00  \n8993   20.77     6.02     5.53     4.01    5.57     3.27     2.30   12.90  \n8994   20.44     5.91     5.41     3.96    5.43     3.18     2.25   12.79  \n8995   20.04     5.80     5.34     3.85    5.02     2.92     2.10   12.56  \n8996   19.59     5.65     5.17     3.77    4.74     2.80     1.94   12.15  \n8997   19.41     5.47     5.17     3.79    4.53     2.66     1.87   12.21  \n8998   18.86     5.22     5.08     3.67    4.26     2.50     1.76   11.95  \n8999   18.45     5.04     5.11     3.63    3.98     2.33     1.65   11.45  ",
      "text/html": "<div>\n<style scoped>\n    .dataframe tbody tr th:only-of-type {\n        vertical-align: middle;\n    }\n\n    .dataframe tbody tr th {\n        vertical-align: top;\n    }\n\n    .dataframe thead th {\n        text-align: right;\n    }\n</style>\n<table border=\"1\" class=\"dataframe\">\n  <thead>\n    <tr style=\"text-align: right;\">\n      <th></th>\n      <th>ds</th>\n      <th>cnp_np</th>\n      <th>cnp_se</th>\n      <th>cnp_se1</th>\n      <th>cnp_se2</th>\n      <th>cnp_se3</th>\n      <th>cnp_se4</th>\n      <th>cnp_no</th>\n      <th>cnp_no1</th>\n      <th>cnp_no2</th>\n      <th>cnp_no3</th>\n      <th>cnp_dk</th>\n      <th>cnp_dk1</th>\n      <th>cnp_dk2</th>\n      <th>cnp_fi</th>\n    </tr>\n  </thead>\n  <tbody>\n    <tr>\n      <th>8976</th>\n      <td>2021-12-10 00:00:00</td>\n      <td>52.59</td>\n      <td>18.30</td>\n      <td>1.47</td>\n      <td>2.04</td>\n      <td>11.56</td>\n      <td>3.24</td>\n      <td>18.45</td>\n      <td>5.04</td>\n      <td>4.91</td>\n      <td>3.62</td>\n      <td>3.96</td>\n      <td>2.38</td>\n      <td>1.58</td>\n      <td>11.87</td>\n    </tr>\n    <tr>\n      <th>8977</th>\n      <td>2021-12-10 01:00:00</td>\n      <td>51.52</td>\n      <td>17.92</td>\n      <td>1.35</td>\n      <td>2.07</td>\n      <td>11.32</td>\n      <td>3.19</td>\n      <td>18.09</td>\n      <td>4.89</td>\n      <td>4.81</td>\n      <td>3.61</td>\n      <td>3.82</td>\n      <td>2.31</td>\n      <td>1.51</td>\n      <td>11.69</td>\n    </tr>\n    <tr>\n      <th>8978</th>\n      <td>2021-12-10 02:00:00</td>\n      <td>50.81</td>\n      <td>17.48</td>\n      <td>1.17</td>\n      <td>2.01</td>\n      <td>11.18</td>\n      <td>3.13</td>\n      <td>17.96</td>\n      <td>4.85</td>\n      <td>4.78</td>\n      <td>3.61</td>\n      <td>3.73</td>\n      <td>2.25</td>\n      <td>1.48</td>\n      <td>11.64</td>\n    </tr>\n    <tr>\n      <th>8979</th>\n      <td>2021-12-10 03:00:00</td>\n      <td>51.06</td>\n      <td>17.65</td>\n      <td>1.35</td>\n      <td>2.03</td>\n      <td>11.13</td>\n      <td>3.14</td>\n      <td>17.91</td>\n      <td>4.80</td>\n      <td>4.77</td>\n      <td>3.60</td>\n      <td>3.75</td>\n      <td>2.27</td>\n      <td>1.47</td>\n      <td>11.75</td>\n    </tr>\n    <tr>\n      <th>8980</th>\n      <td>2021-12-10 04:00:00</td>\n      <td>51.65</td>\n      <td>17.87</td>\n      <td>1.46</td>\n      <td>2.04</td>\n      <td>11.19</td>\n      <td>3.18</td>\n      <td>17.90</td>\n      <td>4.80</td>\n      <td>4.75</td>\n      <td>3.56</td>\n      <td>3.79</td>\n      <td>2.31</td>\n      <td>1.48</td>\n      <td>12.10</td>\n    </tr>\n    <tr>\n      <th>8981</th>\n      <td>2021-12-10 05:00:00</td>\n      <td>53.58</td>\n      <td>18.39</td>\n      <td>1.43</td>\n      <td>2.13</td>\n      <td>11.50</td>\n      <td>3.33</td>\n      <td>18.33</td>\n      <td>4.96</td>\n      <td>4.85</td>\n      <td>3.66</td>\n      <td>4.01</td>\n      <td>2.46</td>\n      <td>1.55</td>\n      <td>12.84</td>\n    </tr>\n    <tr>\n      <th>8982</th>\n      <td>2021-12-10 06:00:00</td>\n      <td>57.52</td>\n      <td>20.17</td>\n      <td>1.59</td>\n      <td>2.40</td>\n      <td>12.49</td>\n      <td>3.69</td>\n      <td>19.52</td>\n      <td>5.45</td>\n      <td>5.16</td>\n      <td>3.82</td>\n      <td>4.65</td>\n      <td>2.87</td>\n      <td>1.78</td>\n      <td>13.17</td>\n    </tr>\n    <tr>\n      <th>8983</th>\n      <td>2021-12-10 07:00:00</td>\n      <td>60.98</td>\n      <td>21.60</td>\n      <td>1.54</td>\n      <td>2.44</td>\n      <td>13.61</td>\n      <td>4.01</td>\n      <td>20.78</td>\n      <td>5.99</td>\n      <td>5.43</td>\n      <td>4.03</td>\n      <td>5.26</td>\n      <td>3.26</td>\n      <td>2.00</td>\n      <td>13.35</td>\n    </tr>\n    <tr>\n      <th>8984</th>\n      <td>2021-12-10 08:00:00</td>\n      <td>61.65</td>\n      <td>21.85</td>\n      <td>1.60</td>\n      <td>2.31</td>\n      <td>13.83</td>\n      <td>4.11</td>\n      <td>21.12</td>\n      <td>6.22</td>\n      <td>5.48</td>\n      <td>4.03</td>\n      <td>5.49</td>\n      <td>3.41</td>\n      <td>2.08</td>\n      <td>13.19</td>\n    </tr>\n    <tr>\n      <th>8985</th>\n      <td>2021-12-10 09:00:00</td>\n      <td>61.42</td>\n      <td>21.90</td>\n      <td>1.59</td>\n      <td>2.25</td>\n      <td>13.94</td>\n      <td>4.12</td>\n      <td>21.05</td>\n      <td>6.20</td>\n      <td>5.45</td>\n      <td>4.04</td>\n      <td>5.46</td>\n      <td>3.34</td>\n      <td>2.12</td>\n      <td>13.01</td>\n    </tr>\n    <tr>\n      <th>8986</th>\n      <td>2021-12-10 10:00:00</td>\n      <td>61.81</td>\n      <td>22.26</td>\n      <td>1.70</td>\n      <td>2.45</td>\n      <td>13.95</td>\n      <td>4.16</td>\n      <td>20.99</td>\n      <td>6.17</td>\n      <td>5.48</td>\n      <td>4.06</td>\n      <td>5.52</td>\n      <td>3.35</td>\n      <td>2.17</td>\n      <td>13.04</td>\n    </tr>\n    <tr>\n      <th>8987</th>\n      <td>2021-12-10 11:00:00</td>\n      <td>61.59</td>\n      <td>22.38</td>\n      <td>1.74</td>\n      <td>2.52</td>\n      <td>14.00</td>\n      <td>4.12</td>\n      <td>20.77</td>\n      <td>6.18</td>\n      <td>5.50</td>\n      <td>4.00</td>\n      <td>5.47</td>\n      <td>3.30</td>\n      <td>2.17</td>\n      <td>12.97</td>\n    </tr>\n    <tr>\n      <th>8988</th>\n      <td>2021-12-10 12:00:00</td>\n      <td>61.31</td>\n      <td>22.23</td>\n      <td>1.64</td>\n      <td>2.51</td>\n      <td>14.01</td>\n      <td>4.07</td>\n      <td>20.78</td>\n      <td>6.16</td>\n      <td>5.42</td>\n      <td>4.08</td>\n      <td>5.37</td>\n      <td>3.21</td>\n      <td>2.15</td>\n      <td>12.94</td>\n    </tr>\n    <tr>\n      <th>8989</th>\n      <td>2021-12-10 13:00:00</td>\n      <td>60.89</td>\n      <td>21.80</td>\n      <td>1.47</td>\n      <td>2.55</td>\n      <td>13.76</td>\n      <td>4.03</td>\n      <td>20.85</td>\n      <td>6.13</td>\n      <td>5.49</td>\n      <td>4.10</td>\n      <td>5.30</td>\n      <td>3.15</td>\n      <td>2.15</td>\n      <td>12.94</td>\n    </tr>\n    <tr>\n      <th>8990</th>\n      <td>2021-12-10 14:00:00</td>\n      <td>60.63</td>\n      <td>21.74</td>\n      <td>1.47</td>\n      <td>2.67</td>\n      <td>13.62</td>\n      <td>3.98</td>\n      <td>20.76</td>\n      <td>6.13</td>\n      <td>5.53</td>\n      <td>4.02</td>\n      <td>5.11</td>\n      <td>3.00</td>\n      <td>2.11</td>\n      <td>13.03</td>\n    </tr>\n    <tr>\n      <th>8991</th>\n      <td>2021-12-10 15:00:00</td>\n      <td>61.11</td>\n      <td>22.04</td>\n      <td>1.75</td>\n      <td>2.58</td>\n      <td>13.72</td>\n      <td>3.99</td>\n      <td>20.89</td>\n      <td>6.12</td>\n      <td>5.56</td>\n      <td>4.04</td>\n      <td>5.14</td>\n      <td>2.99</td>\n      <td>2.15</td>\n      <td>13.05</td>\n    </tr>\n    <tr>\n      <th>8992</th>\n      <td>2021-12-10 16:00:00</td>\n      <td>61.11</td>\n      <td>21.66</td>\n      <td>1.55</td>\n      <td>2.41</td>\n      <td>13.66</td>\n      <td>4.03</td>\n      <td>21.07</td>\n      <td>6.10</td>\n      <td>5.61</td>\n      <td>4.11</td>\n      <td>5.38</td>\n      <td>3.15</td>\n      <td>2.23</td>\n      <td>13.00</td>\n    </tr>\n    <tr>\n      <th>8993</th>\n      <td>2021-12-10 17:00:00</td>\n      <td>60.56</td>\n      <td>21.31</td>\n      <td>1.44</td>\n      <td>2.30</td>\n      <td>13.61</td>\n      <td>3.96</td>\n      <td>20.77</td>\n      <td>6.02</td>\n      <td>5.53</td>\n      <td>4.01</td>\n      <td>5.57</td>\n      <td>3.27</td>\n      <td>2.30</td>\n      <td>12.90</td>\n    </tr>\n    <tr>\n      <th>8994</th>\n      <td>2021-12-10 18:00:00</td>\n      <td>59.54</td>\n      <td>20.88</td>\n      <td>1.45</td>\n      <td>2.27</td>\n      <td>13.29</td>\n      <td>3.87</td>\n      <td>20.44</td>\n      <td>5.91</td>\n      <td>5.41</td>\n      <td>3.96</td>\n      <td>5.43</td>\n      <td>3.18</td>\n      <td>2.25</td>\n      <td>12.79</td>\n    </tr>\n    <tr>\n      <th>8995</th>\n      <td>2021-12-10 19:00:00</td>\n      <td>57.96</td>\n      <td>20.35</td>\n      <td>1.44</td>\n      <td>2.26</td>\n      <td>12.99</td>\n      <td>3.66</td>\n      <td>20.04</td>\n      <td>5.80</td>\n      <td>5.34</td>\n      <td>3.85</td>\n      <td>5.02</td>\n      <td>2.92</td>\n      <td>2.10</td>\n      <td>12.56</td>\n    </tr>\n    <tr>\n      <th>8996</th>\n      <td>2021-12-10 20:00:00</td>\n      <td>56.29</td>\n      <td>19.81</td>\n      <td>1.41</td>\n      <td>2.30</td>\n      <td>12.61</td>\n      <td>3.50</td>\n      <td>19.59</td>\n      <td>5.65</td>\n      <td>5.17</td>\n      <td>3.77</td>\n      <td>4.74</td>\n      <td>2.80</td>\n      <td>1.94</td>\n      <td>12.15</td>\n    </tr>\n    <tr>\n      <th>8997</th>\n      <td>2021-12-10 21:00:00</td>\n      <td>55.26</td>\n      <td>19.11</td>\n      <td>1.33</td>\n      <td>2.27</td>\n      <td>12.11</td>\n      <td>3.40</td>\n      <td>19.41</td>\n      <td>5.47</td>\n      <td>5.17</td>\n      <td>3.79</td>\n      <td>4.53</td>\n      <td>2.66</td>\n      <td>1.87</td>\n      <td>12.21</td>\n    </tr>\n    <tr>\n      <th>8998</th>\n      <td>2021-12-10 22:00:00</td>\n      <td>53.48</td>\n      <td>18.42</td>\n      <td>1.33</td>\n      <td>2.14</td>\n      <td>11.69</td>\n      <td>3.26</td>\n      <td>18.86</td>\n      <td>5.22</td>\n      <td>5.08</td>\n      <td>3.67</td>\n      <td>4.26</td>\n      <td>2.50</td>\n      <td>1.76</td>\n      <td>11.95</td>\n    </tr>\n    <tr>\n      <th>8999</th>\n      <td>2021-12-10 23:00:00</td>\n      <td>51.66</td>\n      <td>17.79</td>\n      <td>1.30</td>\n      <td>2.06</td>\n      <td>11.30</td>\n      <td>3.13</td>\n      <td>18.45</td>\n      <td>5.04</td>\n      <td>5.11</td>\n      <td>3.63</td>\n      <td>3.98</td>\n      <td>2.33</td>\n      <td>1.65</td>\n      <td>11.45</td>\n    </tr>\n  </tbody>\n</table>\n</div>"
     },
     "execution_count": 1,
     "metadata": {},
     "output_type": "execute_result"
    }
   ],
   "source": [
    "import pandas as pd\n",
    "import matplotlib.pyplot as plt\n",
    "from datetime import date, datetime, timedelta\n",
    "import os\n",
    "import logging\n",
    "import urllib.parse as url\n",
    "import warnings\n",
    "import numpy as np\n",
    "\n",
    "warnings.filterwarnings(\"ignore\")\n",
    "\n",
    "data_series = [\n",
    "    'CNPNP',\n",
    "    'CNPSE', 'CNPSE1', 'CNPSE2', 'CNPSE3', 'CNPSE4',\n",
    "    'CNPNO', 'CNPNO1', 'CNPNO2', 'CNPNO3',\n",
    "    'CNPDEN', 'CNPDK1', 'CNPDK2',\n",
    "    'CNPFI'\n",
    "]\n",
    "column_names = [\n",
    "    'cnp_np',\n",
    "    'cnp_se', 'cnp_se1', 'cnp_se2', 'cnp_se3', 'cnp_se4',\n",
    "    'cnp_no', 'cnp_no1', 'cnp_no2', 'cnp_no3',\n",
    "    'cnp_dk', 'cnp_dk1', 'cnp_dk2',\n",
    "    'cnp_fi'\n",
    "]\n",
    "\n",
    "history_start_date = datetime(year=2020, month=12, day=1)\n",
    "history_end_date = datetime(year=2021, month=12, day=1)\n",
    "forecast_end_date = datetime(year=2021, month=12, day=10)\n",
    "\n",
    "request = {\n",
    "    \"series\": ','.join(data_series),\n",
    "    'interval': 'hour',\n",
    "    'start': history_start_date.strftime('%Y-%m-%d'),\n",
    "    'end': forecast_end_date.strftime('%Y-%m-%d'),\n",
    "    'token': '8ycj3jSf2DJZOtX',\n",
    "    #'token': '7EMf0VCcZxcIdBy',\n",
    "    'emptydata': 'yes',\n",
    "    'currency': '',\n",
    "    'dateFormat': 'nbno',\n",
    "    'numberFormat': 'nothousandsdot',\n",
    "    'fileformat': 'csv',\n",
    "    'headers': 'no'\n",
    "}\n",
    "\n",
    "dataUrl = f'https://syspower5.skm.no/api/webquery/execute?{url.urlencode(request)}'\n",
    "data = pd.read_csv(dataUrl, sep=';', index_col=0, parse_dates=True, dayfirst=True,\n",
    "                   header=None, names = ['ds'] + column_names).interpolate().reset_index()\n",
    "#\n",
    "# plt.figure(figsize=(16, 6))\n",
    "# data.plot(x='ds', y='cnp_np', figsize=(16, 5))\n",
    "# data.plot(x='ds', y='cnp_fi', figsize=(16, 5))\n",
    "# data.plot(x='ds', y='cnp_se', figsize=(16, 5))\n",
    "# data.plot(x='ds', y='cnp_se1', figsize=(16, 5))\n",
    "# data.plot(x='ds', y='cnp_se2', figsize=(16, 5))\n",
    "# data.plot(x='ds', y='cnp_se3', figsize=(16, 5))\n",
    "# data.plot(x='ds', y='cnp_se4', figsize=(16, 5))\n",
    "# data.plot(x='ds', y='cnp_no', figsize=(16, 5))\n",
    "# data.plot(x='ds', y='cnp_no1', figsize=(16, 5))\n",
    "# data.plot(x='ds', y='cnp_no2', figsize=(16, 5))\n",
    "# data.plot(x='ds', y='cnp_no3', figsize=(16, 5))\n",
    "# data.plot(x='ds', y='cnp_dk', figsize=(16, 5))\n",
    "# data.plot(x='ds', y='cnp_dk1', figsize=(16, 5))\n",
    "# data.plot(x='ds', y='cnp_dk2', figsize=(16, 5))\n",
    "data.tail(24)"
   ]
  },
  {
   "cell_type": "code",
   "execution_count": 2,
   "metadata": {
    "collapsed": false,
    "gradient": {
     "editing": true,
     "id": "5de73448-f7d7-4773-9efd-6e008f877c58",
     "kernelId": "7d709460-bc6b-48fd-b97e-d8f40f5fd87b",
     "source_hidden": false
    },
    "jupyter": {
     "outputs_hidden": false
    }
   },
   "outputs": [],
   "source": [
    "# data_series = [\n",
    "#     'SMHITEMPFI_F', 'SMHITEMPSE_F', 'SMHITEMPNO_F', 'SMHITEMPNP_F'\n",
    "# ]\n",
    "# column_names = [\n",
    "#     'temp_fi', 'temp_se', 'temp_no', 'temp_np'\n",
    "# ]\n",
    "#\n",
    "# temp_date = forecast_end_date + timedelta(days=1)\n",
    "# request = {\n",
    "#     \"series\": ','.join(data_series),\n",
    "#     'interval': 'day',\n",
    "#     'start': history_start_date.strftime('%Y-%m-%d'),\n",
    "#     'end': temp_date.strftime('%Y-%m-%d'),\n",
    "#     'token': '8ycj3jSf2DJZOtX',\n",
    "#     'emptydata': 'yes',\n",
    "#     'currency': '',\n",
    "#     'dateFormat': 'nbno',\n",
    "#     'numberFormat': 'nothousandsdot',\n",
    "#     'fileformat': 'csv',\n",
    "#     'headers': 'no'\n",
    "# }\n",
    "#\n",
    "# dataUrl = f'https://syspower5.skm.no/api/webquery/execute?{url.urlencode(request)}'\n",
    "# temp_data = pd.read_csv(dataUrl, sep=';', index_col=0, parse_dates=True, dayfirst=True,\n",
    "#                    header=None, names = ['ds'] + column_names).interpolate().reset_index()\n",
    "#\n",
    "# temp_data['ds'] = pd.to_datetime(temp_data['ds'])\n",
    "# temp_data.set_index('ds', inplace=True)\n",
    "# temp_data = temp_data.resample('H').interpolate()\n",
    "# temp_data = temp_data.reset_index()\n",
    "# # temp_data.plot(x='ds', y='temp_np', figsize=(16, 5))\n",
    "# # temp_data.plot(x='ds', y='temp_fi', figsize=(16, 5))\n",
    "# # temp_data.plot(x='ds', y='temp_se', figsize=(16, 5))\n",
    "# # temp_data.plot(x='ds', y='temp_no', figsize=(16, 5))\n",
    "# #data = pd.merge(left=data, right=temp_data, on='ds', how='left')"
   ]
  },
  {
   "cell_type": "code",
   "execution_count": 3,
   "metadata": {
    "collapsed": false,
    "gradient": {
     "editing": false,
     "id": "464aa962-a099-4585-8d99-3d40eec310d8",
     "kernelId": "7d709460-bc6b-48fd-b97e-d8f40f5fd87b",
     "source_hidden": false
    },
    "jupyter": {
     "outputs_hidden": false
    }
   },
   "outputs": [],
   "source": [
    "#!pip install pytorch_forecasting pytorch_lightning pandas"
   ]
  },
  {
   "cell_type": "markdown",
   "source": [
    "Here we create function that pivot source data to the shape that pytorch forecasting expects"
   ],
   "metadata": {
    "collapsed": false,
    "pycharm": {
     "name": "#%% md\n"
    }
   }
  },
  {
   "cell_type": "code",
   "execution_count": 4,
   "outputs": [],
   "source": [
    "def create_dataset(df: pd.DataFrame, column_names: list) -> pd.DataFrame:\n",
    "    result = df.melt(\n",
    "        id_vars=['ds'],\n",
    "        value_vars=column_names\n",
    "    )\n",
    "    groups_dict = {key: value for value, key in enumerate(column_names)}\n",
    "    time_idx = np.tile(np.arange(data.shape[0]), len(column_names))\n",
    "    result['time_idx'] = time_idx\n",
    "    result['group'] = result.apply(lambda x: groups_dict.get(x['variable'], 0), axis=1)\n",
    "    result['hour'] = result.apply(lambda x: x['ds'].hour, axis=1).astype(str).astype('category')\n",
    "    result['weekday'] = result.apply(lambda x: x['ds'].weekday(), axis=1).astype(str).astype('category')\n",
    "    result['month'] = result.apply(lambda x: x['ds'].month, axis=1).astype(str).astype('category')\n",
    "    return result"
   ],
   "metadata": {
    "collapsed": false,
    "pycharm": {
     "name": "#%%\n"
    }
   }
  },
  {
   "cell_type": "code",
   "execution_count": 5,
   "metadata": {
    "collapsed": false,
    "gradient": {
     "editing": false,
     "id": "6fb6ac0f-8846-42b4-bd0b-b7ecfa14275a",
     "kernelId": "7d709460-bc6b-48fd-b97e-d8f40f5fd87b"
    },
    "jupyter": {
     "outputs_hidden": false
    },
    "pycharm": {
     "name": "#%%\n"
    }
   },
   "outputs": [],
   "source": [
    "# res = data.melt(\n",
    "#     id_vars=['ds'],\n",
    "#     value_vars=[\n",
    "#         'cnp_np',\n",
    "#         'cnp_no', 'cnp_no1', 'cnp_no2', 'cnp_no3',\n",
    "#         'cnp_se', 'cnp_se1', 'cnp_se2', 'cnp_se3', 'cnp_se4',\n",
    "#         'cnp_dk', 'cnp_dk1', 'cnp_dk2',\n",
    "#         'cnp_fi'\n",
    "#     ]\n",
    "# )\n",
    "# time_idx = np.tile(np.arange(data.shape[0]), 14)\n",
    "# temperature = np.tile(\n",
    "#     data.loc[:, ['temp_fi', 'temp_np', 'temp_no', 'temp_se']].to_numpy(),\n",
    "#     (14, 1)\n",
    "# )\n",
    "# res['time_idx'] = time_idx\n",
    "# res['temp_fi'] = temperature[:, 0]\n",
    "# res['temp_np'] = temperature[:, 1]\n",
    "# res['temp_no'] = temperature[:, 2]\n",
    "# res['temp_se'] = temperature[:, 3]\n",
    "# groups_dict = {\n",
    "#     'cnp_np': 1,\n",
    "#     'cnp_no': 2,\n",
    "#     'cnp_no1': 3,\n",
    "#     'cnp_no2': 4,\n",
    "#     'cnp_no3': 5,\n",
    "#     'cnp_se': 6,\n",
    "#     'cnp_se1': 7,\n",
    "#     'cnp_se2': 8,\n",
    "#     'cnp_se3': 9,\n",
    "#     'cnp_se4': 10,\n",
    "#     'cnp_dk': 11,\n",
    "#     'cnp_dk1': 12,\n",
    "#     'cnp_dk2': 13,\n",
    "#     'cnp_fi': 14,\n",
    "# }\n",
    "# res['group'] = res.apply(lambda x: groups_dict.get(x['variable'], 0), axis=1)"
   ]
  },
  {
   "cell_type": "code",
   "execution_count": 6,
   "outputs": [
    {
     "data": {
      "text/plain": "                        ds variable  value  time_idx  group hour weekday month\n125976 2021-12-10 00:00:00   cnp_fi  11.87      8976     13    0       4    12\n125977 2021-12-10 01:00:00   cnp_fi  11.69      8977     13    1       4    12\n125978 2021-12-10 02:00:00   cnp_fi  11.64      8978     13    2       4    12\n125979 2021-12-10 03:00:00   cnp_fi  11.75      8979     13    3       4    12\n125980 2021-12-10 04:00:00   cnp_fi  12.10      8980     13    4       4    12\n125981 2021-12-10 05:00:00   cnp_fi  12.84      8981     13    5       4    12\n125982 2021-12-10 06:00:00   cnp_fi  13.17      8982     13    6       4    12\n125983 2021-12-10 07:00:00   cnp_fi  13.35      8983     13    7       4    12\n125984 2021-12-10 08:00:00   cnp_fi  13.19      8984     13    8       4    12\n125985 2021-12-10 09:00:00   cnp_fi  13.01      8985     13    9       4    12\n125986 2021-12-10 10:00:00   cnp_fi  13.04      8986     13   10       4    12\n125987 2021-12-10 11:00:00   cnp_fi  12.97      8987     13   11       4    12\n125988 2021-12-10 12:00:00   cnp_fi  12.94      8988     13   12       4    12\n125989 2021-12-10 13:00:00   cnp_fi  12.94      8989     13   13       4    12\n125990 2021-12-10 14:00:00   cnp_fi  13.03      8990     13   14       4    12\n125991 2021-12-10 15:00:00   cnp_fi  13.05      8991     13   15       4    12\n125992 2021-12-10 16:00:00   cnp_fi  13.00      8992     13   16       4    12\n125993 2021-12-10 17:00:00   cnp_fi  12.90      8993     13   17       4    12\n125994 2021-12-10 18:00:00   cnp_fi  12.79      8994     13   18       4    12\n125995 2021-12-10 19:00:00   cnp_fi  12.56      8995     13   19       4    12\n125996 2021-12-10 20:00:00   cnp_fi  12.15      8996     13   20       4    12\n125997 2021-12-10 21:00:00   cnp_fi  12.21      8997     13   21       4    12\n125998 2021-12-10 22:00:00   cnp_fi  11.95      8998     13   22       4    12\n125999 2021-12-10 23:00:00   cnp_fi  11.45      8999     13   23       4    12",
      "text/html": "<div>\n<style scoped>\n    .dataframe tbody tr th:only-of-type {\n        vertical-align: middle;\n    }\n\n    .dataframe tbody tr th {\n        vertical-align: top;\n    }\n\n    .dataframe thead th {\n        text-align: right;\n    }\n</style>\n<table border=\"1\" class=\"dataframe\">\n  <thead>\n    <tr style=\"text-align: right;\">\n      <th></th>\n      <th>ds</th>\n      <th>variable</th>\n      <th>value</th>\n      <th>time_idx</th>\n      <th>group</th>\n      <th>hour</th>\n      <th>weekday</th>\n      <th>month</th>\n    </tr>\n  </thead>\n  <tbody>\n    <tr>\n      <th>125976</th>\n      <td>2021-12-10 00:00:00</td>\n      <td>cnp_fi</td>\n      <td>11.87</td>\n      <td>8976</td>\n      <td>13</td>\n      <td>0</td>\n      <td>4</td>\n      <td>12</td>\n    </tr>\n    <tr>\n      <th>125977</th>\n      <td>2021-12-10 01:00:00</td>\n      <td>cnp_fi</td>\n      <td>11.69</td>\n      <td>8977</td>\n      <td>13</td>\n      <td>1</td>\n      <td>4</td>\n      <td>12</td>\n    </tr>\n    <tr>\n      <th>125978</th>\n      <td>2021-12-10 02:00:00</td>\n      <td>cnp_fi</td>\n      <td>11.64</td>\n      <td>8978</td>\n      <td>13</td>\n      <td>2</td>\n      <td>4</td>\n      <td>12</td>\n    </tr>\n    <tr>\n      <th>125979</th>\n      <td>2021-12-10 03:00:00</td>\n      <td>cnp_fi</td>\n      <td>11.75</td>\n      <td>8979</td>\n      <td>13</td>\n      <td>3</td>\n      <td>4</td>\n      <td>12</td>\n    </tr>\n    <tr>\n      <th>125980</th>\n      <td>2021-12-10 04:00:00</td>\n      <td>cnp_fi</td>\n      <td>12.10</td>\n      <td>8980</td>\n      <td>13</td>\n      <td>4</td>\n      <td>4</td>\n      <td>12</td>\n    </tr>\n    <tr>\n      <th>125981</th>\n      <td>2021-12-10 05:00:00</td>\n      <td>cnp_fi</td>\n      <td>12.84</td>\n      <td>8981</td>\n      <td>13</td>\n      <td>5</td>\n      <td>4</td>\n      <td>12</td>\n    </tr>\n    <tr>\n      <th>125982</th>\n      <td>2021-12-10 06:00:00</td>\n      <td>cnp_fi</td>\n      <td>13.17</td>\n      <td>8982</td>\n      <td>13</td>\n      <td>6</td>\n      <td>4</td>\n      <td>12</td>\n    </tr>\n    <tr>\n      <th>125983</th>\n      <td>2021-12-10 07:00:00</td>\n      <td>cnp_fi</td>\n      <td>13.35</td>\n      <td>8983</td>\n      <td>13</td>\n      <td>7</td>\n      <td>4</td>\n      <td>12</td>\n    </tr>\n    <tr>\n      <th>125984</th>\n      <td>2021-12-10 08:00:00</td>\n      <td>cnp_fi</td>\n      <td>13.19</td>\n      <td>8984</td>\n      <td>13</td>\n      <td>8</td>\n      <td>4</td>\n      <td>12</td>\n    </tr>\n    <tr>\n      <th>125985</th>\n      <td>2021-12-10 09:00:00</td>\n      <td>cnp_fi</td>\n      <td>13.01</td>\n      <td>8985</td>\n      <td>13</td>\n      <td>9</td>\n      <td>4</td>\n      <td>12</td>\n    </tr>\n    <tr>\n      <th>125986</th>\n      <td>2021-12-10 10:00:00</td>\n      <td>cnp_fi</td>\n      <td>13.04</td>\n      <td>8986</td>\n      <td>13</td>\n      <td>10</td>\n      <td>4</td>\n      <td>12</td>\n    </tr>\n    <tr>\n      <th>125987</th>\n      <td>2021-12-10 11:00:00</td>\n      <td>cnp_fi</td>\n      <td>12.97</td>\n      <td>8987</td>\n      <td>13</td>\n      <td>11</td>\n      <td>4</td>\n      <td>12</td>\n    </tr>\n    <tr>\n      <th>125988</th>\n      <td>2021-12-10 12:00:00</td>\n      <td>cnp_fi</td>\n      <td>12.94</td>\n      <td>8988</td>\n      <td>13</td>\n      <td>12</td>\n      <td>4</td>\n      <td>12</td>\n    </tr>\n    <tr>\n      <th>125989</th>\n      <td>2021-12-10 13:00:00</td>\n      <td>cnp_fi</td>\n      <td>12.94</td>\n      <td>8989</td>\n      <td>13</td>\n      <td>13</td>\n      <td>4</td>\n      <td>12</td>\n    </tr>\n    <tr>\n      <th>125990</th>\n      <td>2021-12-10 14:00:00</td>\n      <td>cnp_fi</td>\n      <td>13.03</td>\n      <td>8990</td>\n      <td>13</td>\n      <td>14</td>\n      <td>4</td>\n      <td>12</td>\n    </tr>\n    <tr>\n      <th>125991</th>\n      <td>2021-12-10 15:00:00</td>\n      <td>cnp_fi</td>\n      <td>13.05</td>\n      <td>8991</td>\n      <td>13</td>\n      <td>15</td>\n      <td>4</td>\n      <td>12</td>\n    </tr>\n    <tr>\n      <th>125992</th>\n      <td>2021-12-10 16:00:00</td>\n      <td>cnp_fi</td>\n      <td>13.00</td>\n      <td>8992</td>\n      <td>13</td>\n      <td>16</td>\n      <td>4</td>\n      <td>12</td>\n    </tr>\n    <tr>\n      <th>125993</th>\n      <td>2021-12-10 17:00:00</td>\n      <td>cnp_fi</td>\n      <td>12.90</td>\n      <td>8993</td>\n      <td>13</td>\n      <td>17</td>\n      <td>4</td>\n      <td>12</td>\n    </tr>\n    <tr>\n      <th>125994</th>\n      <td>2021-12-10 18:00:00</td>\n      <td>cnp_fi</td>\n      <td>12.79</td>\n      <td>8994</td>\n      <td>13</td>\n      <td>18</td>\n      <td>4</td>\n      <td>12</td>\n    </tr>\n    <tr>\n      <th>125995</th>\n      <td>2021-12-10 19:00:00</td>\n      <td>cnp_fi</td>\n      <td>12.56</td>\n      <td>8995</td>\n      <td>13</td>\n      <td>19</td>\n      <td>4</td>\n      <td>12</td>\n    </tr>\n    <tr>\n      <th>125996</th>\n      <td>2021-12-10 20:00:00</td>\n      <td>cnp_fi</td>\n      <td>12.15</td>\n      <td>8996</td>\n      <td>13</td>\n      <td>20</td>\n      <td>4</td>\n      <td>12</td>\n    </tr>\n    <tr>\n      <th>125997</th>\n      <td>2021-12-10 21:00:00</td>\n      <td>cnp_fi</td>\n      <td>12.21</td>\n      <td>8997</td>\n      <td>13</td>\n      <td>21</td>\n      <td>4</td>\n      <td>12</td>\n    </tr>\n    <tr>\n      <th>125998</th>\n      <td>2021-12-10 22:00:00</td>\n      <td>cnp_fi</td>\n      <td>11.95</td>\n      <td>8998</td>\n      <td>13</td>\n      <td>22</td>\n      <td>4</td>\n      <td>12</td>\n    </tr>\n    <tr>\n      <th>125999</th>\n      <td>2021-12-10 23:00:00</td>\n      <td>cnp_fi</td>\n      <td>11.45</td>\n      <td>8999</td>\n      <td>13</td>\n      <td>23</td>\n      <td>4</td>\n      <td>12</td>\n    </tr>\n  </tbody>\n</table>\n</div>"
     },
     "execution_count": 6,
     "metadata": {},
     "output_type": "execute_result"
    }
   ],
   "source": [
    "res = create_dataset(df=data, column_names=column_names)\n",
    "res.tail(24)"
   ],
   "metadata": {
    "collapsed": false,
    "pycharm": {
     "name": "#%%\n"
    }
   }
  },
  {
   "cell_type": "code",
   "execution_count": 7,
   "metadata": {
    "collapsed": false,
    "gradient": {
     "editing": false,
     "id": "7bfd93b2-f45a-41eb-b295-4e2aadb6de9d",
     "kernelId": "7d709460-bc6b-48fd-b97e-d8f40f5fd87b",
     "source_hidden": false
    },
    "jupyter": {
     "outputs_hidden": false
    }
   },
   "outputs": [],
   "source": [
    "training_data = res[lambda x: x['ds'] < history_end_date]\n",
    "testing_data = res[lambda x: x['ds'] >= history_end_date]"
   ]
  },
  {
   "cell_type": "code",
   "execution_count": 8,
   "metadata": {
    "collapsed": false,
    "gradient": {
     "editing": false,
     "id": "491ed219-074a-4786-b12c-6ed114bbb2a4",
     "kernelId": "7d709460-bc6b-48fd-b97e-d8f40f5fd87b"
    },
    "jupyter": {
     "outputs_hidden": false
    },
    "pycharm": {
     "name": "#%%\n"
    }
   },
   "outputs": [],
   "source": [
    "from pytorch_forecasting import TimeSeriesDataSet\n",
    "from pytorch_forecasting.data.encoders import GroupNormalizer, MultiNormalizer, EncoderNormalizer\n",
    "from sklearn.preprocessing import StandardScaler, RobustScaler\n",
    "\n",
    "encoder_length = 120\n",
    "decoder_length = 24\n",
    "\n",
    "training_cutoff = res['time_idx'].max() - decoder_length\n",
    "training_dataset = TimeSeriesDataSet(\n",
    "    training_data[lambda x: x.time_idx <= training_cutoff],\n",
    "    group_ids=['group'],\n",
    "    target='value',\n",
    "    time_idx='time_idx',\n",
    "    min_encoder_length=encoder_length,\n",
    "    max_encoder_length=encoder_length,\n",
    "    min_prediction_length=decoder_length,\n",
    "    max_prediction_length=decoder_length,\n",
    "    time_varying_unknown_reals=['value'],\n",
    "    #time_varying_known_reals=['temp_fi'],\n",
    "    #time_varying_known_reals=['temp_fi', 'temp_np', 'temp_no', 'temp_se'],\n",
    "    time_varying_known_categoricals=['hour', 'weekday', 'month'],\n",
    "    #scalers={'std_scale': EncoderNormalizer()},\n",
    "    target_normalizer=EncoderNormalizer(transformation='softplus'),\n",
    "    add_relative_time_idx=True,\n",
    "    add_target_scales=True,\n",
    "    add_encoder_length=True\n",
    "    #scalers={'encoder_normalizer': EncoderNormalizer()},\n",
    ")\n",
    "validation_dataset = TimeSeriesDataSet.from_dataset(\n",
    "    training_dataset,\n",
    "    training_data,\n",
    "    predict=True,\n",
    "    stop_randomization=True\n",
    ")\n",
    "batch_size = 64\n",
    "train_dataloader = training_dataset.to_dataloader(\n",
    "    train=True,\n",
    "    batch_size=batch_size,\n",
    "    num_workers=0\n",
    ")\n",
    "val_dataloader = validation_dataset.to_dataloader(\n",
    "    train=False,\n",
    "    batch_size=batch_size,\n",
    "    num_workers=0\n",
    ")"
   ]
  },
  {
   "cell_type": "code",
   "execution_count": 9,
   "outputs": [],
   "source": [
    "import pytorch_forecasting as pf\n",
    "from pytorch_forecasting.metrics import SMAPE, QuantileLoss\n",
    "model = pf.TemporalFusionTransformer.from_dataset(\n",
    "    training_dataset,\n",
    "    hidden_size=32,\n",
    "    lstm_layers=2,\n",
    "    hidden_continuous_size=16,\n",
    "    #loss=SMAPE(),\n",
    "    output_size=7,\n",
    "    loss=QuantileLoss(),\n",
    "    attention_head_size=4,\n",
    "    learning_rate=5e-3,\n",
    "    reduce_on_plateau_patience=5\n",
    ")"
   ],
   "metadata": {
    "collapsed": false,
    "pycharm": {
     "name": "#%%\n"
    }
   }
  },
  {
   "cell_type": "code",
   "execution_count": 10,
   "metadata": {
    "collapsed": false,
    "gradient": {
     "editing": false,
     "id": "62776c61-05c0-48f1-b8e1-174809f40942",
     "kernelId": "7d709460-bc6b-48fd-b97e-d8f40f5fd87b"
    },
    "jupyter": {
     "outputs_hidden": false
    },
    "pycharm": {
     "name": "#%%\n"
    }
   },
   "outputs": [
    {
     "name": "stderr",
     "output_type": "stream",
     "text": [
      "Global seed set to 666\n",
      "GPU available: False, used: False\n",
      "TPU available: False, using: 0 TPU cores\n",
      "IPU available: False, using: 0 IPUs\n"
     ]
    }
   ],
   "source": [
    "import pandas as pd\n",
    "import pytorch_lightning as pl\n",
    "from pytorch_lightning.callbacks import EarlyStopping\n",
    "\n",
    "pl.seed_everything(666)\n",
    "\n",
    "early_stop_callback = EarlyStopping(\n",
    "    monitor='val_loss',\n",
    "    min_delta=1e-4,\n",
    "    patience=10,\n",
    "    verbose=False,\n",
    "    mode='min'\n",
    ")\n",
    "\n",
    "trainer = pl.Trainer(\n",
    "    max_epochs=100,\n",
    "    gpus=0,\n",
    "    weights_summary='top',\n",
    "    callbacks=[early_stop_callback],\n",
    "    limit_train_batches=30,\n",
    "    gradient_clip_val=0.1,\n",
    "    auto_lr_find=True\n",
    ")"
   ]
  },
  {
   "cell_type": "code",
   "execution_count": 11,
   "outputs": [],
   "source": [
    "# import pickle\n",
    "#\n",
    "# from pytorch_forecasting.models.temporal_fusion_transformer.tuning import optimize_hyperparameters\n",
    "#\n",
    "# # create study\n",
    "# study = optimize_hyperparameters(\n",
    "#     train_dataloader,\n",
    "#     val_dataloader,\n",
    "#     model_path=\"optuna_test\",\n",
    "#     n_trials=100,\n",
    "#     max_epochs=50,\n",
    "#     gradient_clip_val_range=(0.01, 1.0),\n",
    "#     hidden_size_range=(8, 128),\n",
    "#     hidden_continuous_size_range=(8, 128),\n",
    "#     attention_head_size_range=(1, 4),\n",
    "#     learning_rate_range=(0.001, 0.1),\n",
    "#     dropout_range=(0.1, 0.3),\n",
    "#     trainer_kwargs=dict(limit_train_batches=30),\n",
    "#     reduce_on_plateau_patience=4,\n",
    "#     use_learning_rate_finder=False,  # use Optuna to find ideal learning rate or use in-built learning rate finder\n",
    "# )\n",
    "#\n",
    "# # save study results - also we can resume tuning at a later point in time\n",
    "# with open(\"test_study.pkl\", \"wb\") as fout:\n",
    "#     pickle.dump(study, fout)\n",
    "#\n",
    "# # show best hyperparameters\n",
    "# print(study.best_trial.params)"
   ],
   "metadata": {
    "collapsed": false,
    "pycharm": {
     "name": "#%%\n"
    }
   }
  },
  {
   "cell_type": "code",
   "execution_count": 12,
   "metadata": {
    "collapsed": false,
    "gradient": {
     "editing": false,
     "id": "db9abdd3-91f6-44a6-a3e1-45c4e9c26f74",
     "kernelId": "7d709460-bc6b-48fd-b97e-d8f40f5fd87b"
    },
    "jupyter": {
     "outputs_hidden": false
    },
    "pycharm": {
     "name": "#%%\n"
    }
   },
   "outputs": [],
   "source": [
    "# # find optimal learning rate\n",
    "# res = trainer.tuner.lr_find(\n",
    "#     model,\n",
    "#     train_dataloader=train_dataloader,\n",
    "#     val_dataloaders=val_dataloader,\n",
    "#     max_lr=1.0,\n",
    "#     min_lr=1e-3,\n",
    "# )\n",
    "#\n",
    "# print(f\"suggested learning rate: {res.suggestion()}\")\n",
    "# fig = res.plot(show=True, suggest=True)\n",
    "# fig.show()"
   ]
  },
  {
   "cell_type": "code",
   "execution_count": null,
   "metadata": {
    "collapsed": false,
    "gradient": {
     "editing": false,
     "id": "0f6c4bff-2533-4f61-93af-4f78cc7db04e",
     "kernelId": "7d709460-bc6b-48fd-b97e-d8f40f5fd87b"
    },
    "jupyter": {
     "outputs_hidden": false
    },
    "pycharm": {
     "name": "#%%\n",
     "is_executing": true
    }
   },
   "outputs": [
    {
     "name": "stderr",
     "output_type": "stream",
     "text": [
      "\n",
      "   | Name                               | Type                            | Params\n",
      "----------------------------------------------------------------------------------------\n",
      "0  | loss                               | QuantileLoss                    | 0     \n",
      "1  | logging_metrics                    | ModuleList                      | 0     \n",
      "2  | input_embeddings                   | MultiEmbedding                  | 323   \n",
      "3  | prescalers                         | ModuleDict                      | 160   \n",
      "4  | static_variable_selection          | VariableSelectionNetwork        | 5.7 K \n",
      "5  | encoder_variable_selection         | VariableSelectionNetwork        | 4.5 K \n",
      "6  | decoder_variable_selection         | VariableSelectionNetwork        | 2.5 K \n",
      "7  | static_context_variable_selection  | GatedResidualNetwork            | 4.3 K \n",
      "8  | static_context_initial_hidden_lstm | GatedResidualNetwork            | 4.3 K \n",
      "9  | static_context_initial_cell_lstm   | GatedResidualNetwork            | 4.3 K \n",
      "10 | static_context_enrichment          | GatedResidualNetwork            | 4.3 K \n",
      "11 | lstm_encoder                       | LSTM                            | 16.9 K\n",
      "12 | lstm_decoder                       | LSTM                            | 16.9 K\n",
      "13 | post_lstm_gate_encoder             | GatedLinearUnit                 | 2.1 K \n",
      "14 | post_lstm_add_norm_encoder         | AddNorm                         | 64    \n",
      "15 | static_enrichment                  | GatedResidualNetwork            | 5.3 K \n",
      "16 | multihead_attn                     | InterpretableMultiHeadAttention | 2.6 K \n",
      "17 | post_attn_gate_norm                | GateAddNorm                     | 2.2 K \n",
      "18 | pos_wise_ff                        | GatedResidualNetwork            | 4.3 K \n",
      "19 | pre_output_gate_norm               | GateAddNorm                     | 2.2 K \n",
      "20 | output_layer                       | Linear                          | 231   \n",
      "----------------------------------------------------------------------------------------\n",
      "82.8 K    Trainable params\n",
      "0         Non-trainable params\n",
      "82.8 K    Total params\n",
      "0.331     Total estimated model params size (MB)\n"
     ]
    },
    {
     "data": {
      "text/plain": "Validation sanity check: 0it [00:00, ?it/s]",
      "application/vnd.jupyter.widget-view+json": {
       "version_major": 2,
       "version_minor": 0,
       "model_id": "9429b8ebe74d438c973cdbbb849bf816"
      }
     },
     "metadata": {},
     "output_type": "display_data"
    },
    {
     "name": "stderr",
     "output_type": "stream",
     "text": [
      "Global seed set to 666\n"
     ]
    },
    {
     "data": {
      "text/plain": "Training: 0it [00:00, ?it/s]",
      "application/vnd.jupyter.widget-view+json": {
       "version_major": 2,
       "version_minor": 0,
       "model_id": "902d878d2d02475f8a72e5e939d3b73f"
      }
     },
     "metadata": {},
     "output_type": "display_data"
    },
    {
     "data": {
      "text/plain": "Validating: 0it [00:00, ?it/s]",
      "application/vnd.jupyter.widget-view+json": {
       "version_major": 2,
       "version_minor": 0,
       "model_id": "1dd48a80ef7e4ac68f4fc1cc629e6c2d"
      }
     },
     "metadata": {},
     "output_type": "display_data"
    },
    {
     "data": {
      "text/plain": "Validating: 0it [00:00, ?it/s]",
      "application/vnd.jupyter.widget-view+json": {
       "version_major": 2,
       "version_minor": 0,
       "model_id": "ad3ac709105f40d5b748fe4b3a70c04b"
      }
     },
     "metadata": {},
     "output_type": "display_data"
    },
    {
     "data": {
      "text/plain": "Validating: 0it [00:00, ?it/s]",
      "application/vnd.jupyter.widget-view+json": {
       "version_major": 2,
       "version_minor": 0,
       "model_id": "6fc1c0d80e964e66b62baa128d01a193"
      }
     },
     "metadata": {},
     "output_type": "display_data"
    },
    {
     "data": {
      "text/plain": "Validating: 0it [00:00, ?it/s]",
      "application/vnd.jupyter.widget-view+json": {
       "version_major": 2,
       "version_minor": 0,
       "model_id": "cae82e422bec4507b7d9e58253c912d0"
      }
     },
     "metadata": {},
     "output_type": "display_data"
    },
    {
     "data": {
      "text/plain": "Validating: 0it [00:00, ?it/s]",
      "application/vnd.jupyter.widget-view+json": {
       "version_major": 2,
       "version_minor": 0,
       "model_id": "344bb30306b54143b104f4a1b45d49e8"
      }
     },
     "metadata": {},
     "output_type": "display_data"
    },
    {
     "data": {
      "text/plain": "Validating: 0it [00:00, ?it/s]",
      "application/vnd.jupyter.widget-view+json": {
       "version_major": 2,
       "version_minor": 0,
       "model_id": "d3269df542964ebea3583dc40e2d458e"
      }
     },
     "metadata": {},
     "output_type": "display_data"
    },
    {
     "data": {
      "text/plain": "Validating: 0it [00:00, ?it/s]",
      "application/vnd.jupyter.widget-view+json": {
       "version_major": 2,
       "version_minor": 0,
       "model_id": "1fcd74fc7e9f42cc999f1d28a945fd43"
      }
     },
     "metadata": {},
     "output_type": "display_data"
    },
    {
     "data": {
      "text/plain": "Validating: 0it [00:00, ?it/s]",
      "application/vnd.jupyter.widget-view+json": {
       "version_major": 2,
       "version_minor": 0,
       "model_id": "cf5dc659d1784e65a6cdcd52b4ec6f54"
      }
     },
     "metadata": {},
     "output_type": "display_data"
    },
    {
     "data": {
      "text/plain": "Validating: 0it [00:00, ?it/s]",
      "application/vnd.jupyter.widget-view+json": {
       "version_major": 2,
       "version_minor": 0,
       "model_id": "7b031b8f183043828ce68f66e625bd9d"
      }
     },
     "metadata": {},
     "output_type": "display_data"
    },
    {
     "data": {
      "text/plain": "Validating: 0it [00:00, ?it/s]",
      "application/vnd.jupyter.widget-view+json": {
       "version_major": 2,
       "version_minor": 0,
       "model_id": "874454cd8d5843a299c15f4b68f645d1"
      }
     },
     "metadata": {},
     "output_type": "display_data"
    },
    {
     "data": {
      "text/plain": "Validating: 0it [00:00, ?it/s]",
      "application/vnd.jupyter.widget-view+json": {
       "version_major": 2,
       "version_minor": 0,
       "model_id": "eafadcd029284379ae9baf4e45b5acb5"
      }
     },
     "metadata": {},
     "output_type": "display_data"
    },
    {
     "data": {
      "text/plain": "Validating: 0it [00:00, ?it/s]",
      "application/vnd.jupyter.widget-view+json": {
       "version_major": 2,
       "version_minor": 0,
       "model_id": "d8814b856c7a43ecb9a21741dcbc37f3"
      }
     },
     "metadata": {},
     "output_type": "display_data"
    },
    {
     "data": {
      "text/plain": "Validating: 0it [00:00, ?it/s]",
      "application/vnd.jupyter.widget-view+json": {
       "version_major": 2,
       "version_minor": 0,
       "model_id": "5676ca803d40427bbe9450e793969699"
      }
     },
     "metadata": {},
     "output_type": "display_data"
    },
    {
     "data": {
      "text/plain": "Validating: 0it [00:00, ?it/s]",
      "application/vnd.jupyter.widget-view+json": {
       "version_major": 2,
       "version_minor": 0,
       "model_id": "fcc71a0b29304c6e88c47a12e859f6ae"
      }
     },
     "metadata": {},
     "output_type": "display_data"
    },
    {
     "data": {
      "text/plain": "Validating: 0it [00:00, ?it/s]",
      "application/vnd.jupyter.widget-view+json": {
       "version_major": 2,
       "version_minor": 0,
       "model_id": "d9223777fb864892af483b5a68134983"
      }
     },
     "metadata": {},
     "output_type": "display_data"
    },
    {
     "data": {
      "text/plain": "Validating: 0it [00:00, ?it/s]",
      "application/vnd.jupyter.widget-view+json": {
       "version_major": 2,
       "version_minor": 0,
       "model_id": "9b656bff3a104f4ba6b0a76e0f81235c"
      }
     },
     "metadata": {},
     "output_type": "display_data"
    },
    {
     "data": {
      "text/plain": "Validating: 0it [00:00, ?it/s]",
      "application/vnd.jupyter.widget-view+json": {
       "version_major": 2,
       "version_minor": 0,
       "model_id": "4ccf19a417b5438c9b7c79ae251a1c64"
      }
     },
     "metadata": {},
     "output_type": "display_data"
    },
    {
     "data": {
      "text/plain": "Validating: 0it [00:00, ?it/s]",
      "application/vnd.jupyter.widget-view+json": {
       "version_major": 2,
       "version_minor": 0,
       "model_id": "e3e5c52802cb42298146e9696b0568c5"
      }
     },
     "metadata": {},
     "output_type": "display_data"
    },
    {
     "data": {
      "text/plain": "Validating: 0it [00:00, ?it/s]",
      "application/vnd.jupyter.widget-view+json": {
       "version_major": 2,
       "version_minor": 0,
       "model_id": "6799db012da543ff8d79583920b772c7"
      }
     },
     "metadata": {},
     "output_type": "display_data"
    },
    {
     "data": {
      "text/plain": "Validating: 0it [00:00, ?it/s]",
      "application/vnd.jupyter.widget-view+json": {
       "version_major": 2,
       "version_minor": 0,
       "model_id": "69a72fd6cdc049258f8ef36eeeb160c2"
      }
     },
     "metadata": {},
     "output_type": "display_data"
    },
    {
     "data": {
      "text/plain": "Validating: 0it [00:00, ?it/s]",
      "application/vnd.jupyter.widget-view+json": {
       "version_major": 2,
       "version_minor": 0,
       "model_id": "b675a655d3814223baca83ad92e95cb4"
      }
     },
     "metadata": {},
     "output_type": "display_data"
    },
    {
     "data": {
      "text/plain": "Validating: 0it [00:00, ?it/s]",
      "application/vnd.jupyter.widget-view+json": {
       "version_major": 2,
       "version_minor": 0,
       "model_id": "b0a3f76bd91b49edb22760a46ddc3d3a"
      }
     },
     "metadata": {},
     "output_type": "display_data"
    },
    {
     "data": {
      "text/plain": "Validating: 0it [00:00, ?it/s]",
      "application/vnd.jupyter.widget-view+json": {
       "version_major": 2,
       "version_minor": 0,
       "model_id": "dd4eaa427bfe4b2c9e1a7f79f638aca8"
      }
     },
     "metadata": {},
     "output_type": "display_data"
    },
    {
     "data": {
      "text/plain": "Validating: 0it [00:00, ?it/s]",
      "application/vnd.jupyter.widget-view+json": {
       "version_major": 2,
       "version_minor": 0,
       "model_id": "bec7093fc0ca490fbf1719a9c52b83af"
      }
     },
     "metadata": {},
     "output_type": "display_data"
    },
    {
     "data": {
      "text/plain": "Validating: 0it [00:00, ?it/s]",
      "application/vnd.jupyter.widget-view+json": {
       "version_major": 2,
       "version_minor": 0,
       "model_id": "870216e16e0c4aaf8a8e64daede9ec13"
      }
     },
     "metadata": {},
     "output_type": "display_data"
    },
    {
     "data": {
      "text/plain": "Validating: 0it [00:00, ?it/s]",
      "application/vnd.jupyter.widget-view+json": {
       "version_major": 2,
       "version_minor": 0,
       "model_id": "44496320f8a24200974c5a0a09dac093"
      }
     },
     "metadata": {},
     "output_type": "display_data"
    },
    {
     "data": {
      "text/plain": "Validating: 0it [00:00, ?it/s]",
      "application/vnd.jupyter.widget-view+json": {
       "version_major": 2,
       "version_minor": 0,
       "model_id": "8377dd28f84647bca9c222a7cdaefa95"
      }
     },
     "metadata": {},
     "output_type": "display_data"
    },
    {
     "data": {
      "text/plain": "Validating: 0it [00:00, ?it/s]",
      "application/vnd.jupyter.widget-view+json": {
       "version_major": 2,
       "version_minor": 0,
       "model_id": "e4efa48d75b3443bbd9d0a7e5b06f043"
      }
     },
     "metadata": {},
     "output_type": "display_data"
    }
   ],
   "source": [
    "trainer.fit(\n",
    "    model,\n",
    "    train_dataloaders=train_dataloader,\n",
    "    val_dataloaders=val_dataloader\n",
    ")"
   ]
  },
  {
   "cell_type": "code",
   "execution_count": null,
   "metadata": {
    "collapsed": false,
    "gradient": {
     "editing": false,
     "id": "f601809d-4ab9-4761-9b15-3d9bd354994b",
     "kernelId": "7d709460-bc6b-48fd-b97e-d8f40f5fd87b"
    },
    "jupyter": {
     "outputs_hidden": false
    },
    "pycharm": {
     "name": "#%%\n",
     "is_executing": true
    }
   },
   "outputs": [],
   "source": [
    "best_model_path = trainer.checkpoint_callback.best_model_path\n",
    "best_model = pf.TemporalFusionTransformer.load_from_checkpoint(best_model_path)"
   ]
  },
  {
   "cell_type": "code",
   "execution_count": null,
   "metadata": {
    "collapsed": false,
    "gradient": {
     "editing": false,
     "id": "237198fc-983c-4ef1-b693-62fc024aa1fc",
     "kernelId": "7d709460-bc6b-48fd-b97e-d8f40f5fd87b"
    },
    "jupyter": {
     "outputs_hidden": false
    },
    "pycharm": {
     "name": "#%%\n",
     "is_executing": true
    }
   },
   "outputs": [],
   "source": [
    "pred, x = best_model.predict(val_dataloader, mode='prediction', return_x=True)"
   ]
  },
  {
   "cell_type": "code",
   "execution_count": null,
   "metadata": {
    "collapsed": false,
    "gradient": {
     "editing": false,
     "id": "bb40f379-76e0-47fd-834c-d647ff3bbb91",
     "kernelId": "7d709460-bc6b-48fd-b97e-d8f40f5fd87b"
    },
    "jupyter": {
     "outputs_hidden": false
    },
    "pycharm": {
     "name": "#%%\n",
     "is_executing": true
    }
   },
   "outputs": [],
   "source": [
    "y = res.loc[:, 'value'].to_numpy()[-decoder_length:]\n",
    "yhat = pred.detach().numpy()[-1, :]"
   ]
  },
  {
   "cell_type": "code",
   "execution_count": null,
   "metadata": {
    "collapsed": false,
    "gradient": {
     "editing": false,
     "id": "1cf22a51-27e7-4608-8fff-cc86bf3d7055",
     "kernelId": "7d709460-bc6b-48fd-b97e-d8f40f5fd87b"
    },
    "jupyter": {
     "outputs_hidden": false
    },
    "pycharm": {
     "name": "#%%\n",
     "is_executing": true
    }
   },
   "outputs": [],
   "source": [
    "forecast_res = pd.DataFrame(\n",
    "    {'y': y, 'yhat': yhat}\n",
    ")\n",
    "forecast_res.plot(figsize=(16, 6))"
   ]
  },
  {
   "cell_type": "code",
   "execution_count": null,
   "metadata": {
    "collapsed": false,
    "gradient": {
     "editing": false,
     "id": "4a0b36aa-6ef4-4bc5-9567-668117760c60",
     "kernelId": "7d709460-bc6b-48fd-b97e-d8f40f5fd87b"
    },
    "jupyter": {
     "outputs_hidden": false
    },
    "pycharm": {
     "name": "#%%\n",
     "is_executing": true
    }
   },
   "outputs": [],
   "source": [
    "from sklearn.metrics import mean_absolute_error\n",
    "\n",
    "mae = mean_absolute_error(y_true=forecast_res.loc[:, 'y'].to_numpy(), y_pred=forecast_res.loc[:, 'yhat'])\n",
    "print(f'MAE = {mae}')"
   ]
  },
  {
   "cell_type": "code",
   "execution_count": null,
   "metadata": {
    "collapsed": false,
    "gradient": {
     "editing": false,
     "id": "cdc4ae89-c16b-4d6a-8887-43166a5fcf80",
     "kernelId": "7d709460-bc6b-48fd-b97e-d8f40f5fd87b"
    },
    "jupyter": {
     "outputs_hidden": false
    },
    "pycharm": {
     "name": "#%%\n",
     "is_executing": true
    }
   },
   "outputs": [],
   "source": [
    "raw_predictions, x = best_model.predict(val_dataloader, mode='raw', return_x=True)\n",
    "for index in range(14):\n",
    "    best_model.plot_prediction(x, raw_predictions, idx=index, add_loss_to_title=True)"
   ]
  },
  {
   "cell_type": "code",
   "execution_count": null,
   "metadata": {
    "collapsed": false,
    "gradient": {
     "editing": false,
     "id": "49ddaf02-9af1-4e11-9582-f4a287cae5de",
     "kernelId": "7d709460-bc6b-48fd-b97e-d8f40f5fd87b"
    },
    "jupyter": {
     "outputs_hidden": false
    },
    "pycharm": {
     "name": "#%%\n",
     "is_executing": true
    }
   },
   "outputs": [],
   "source": [
    "data['cnp_fi_pred'] = 0\n",
    "\n",
    "dates_range = pd.date_range(\n",
    "    start=history_end_date + timedelta(hours=decoder_length),\n",
    "    end=forecast_end_date,\n",
    "    freq='D'\n",
    ")\n",
    "for current_date in dates_range:\n",
    "    cur_df = res.loc[\n",
    "        (res['ds'] >= current_date - timedelta(hours=encoder_length+decoder_length)) &\n",
    "        (res['ds'] < current_date),\n",
    "        :\n",
    "    ]\n",
    "    # testing_dataset = TimeSeriesDataSet(\n",
    "    #     data=cur_df,\n",
    "    #     group_ids=['group'],\n",
    "    #     target='value',\n",
    "    #     time_idx='time_idx',\n",
    "    #     min_encoder_length=encoder_length,\n",
    "    #     max_encoder_length=encoder_length,\n",
    "    #     min_prediction_length=decoder_length,\n",
    "    #     max_prediction_length=decoder_length,\n",
    "    #     time_varying_unknown_reals=['value'],\n",
    "    #     #time_varying_known_reals=['temp_fi'],\n",
    "    #     #time_varying_known_reals=['temp_fi', 'temp_np', 'temp_no', 'temp_se'],\n",
    "    #     time_varying_known_categoricals=['hour', 'weekday', 'month'],\n",
    "    #     #scalers={'std_scale': EncoderNormalizer()},\n",
    "    #     target_normalizer=EncoderNormalizer(transformation='softplus'),\n",
    "    #     add_relative_time_idx=True,\n",
    "    #     predict_mode=True\n",
    "    #     #add_target_scales=True,\n",
    "    # )\n",
    "    testing_dataset = TimeSeriesDataSet.from_dataset(\n",
    "        dataset=training_dataset,\n",
    "        data=cur_df,\n",
    "        stop_randomization=True,\n",
    "        predict=True\n",
    "    )\n",
    "    testing_dataloader = testing_dataset.to_dataloader(\n",
    "        train=False,\n",
    "        batch_size=batch_size,\n",
    "        num_workers=0\n",
    "    )\n",
    "    prediction = best_model.predict(\n",
    "        testing_dataloader,\n",
    "        mode='prediction',\n",
    "        return_x=False\n",
    "    )\n",
    "    data.loc[\n",
    "        (data['ds'] >= current_date) &\n",
    "        (data['ds'] < current_date + timedelta(days=1)),\n",
    "        'cnp_fi_pred'\n",
    "    ] = prediction.detach().numpy()[-1, :]\n",
    "data.tail(24)"
   ]
  },
  {
   "cell_type": "code",
   "execution_count": null,
   "metadata": {
    "collapsed": false,
    "gradient": {
     "editing": false,
     "id": "3d98bd0c-ed81-4f56-8279-a91cc129f90e",
     "kernelId": "7d709460-bc6b-48fd-b97e-d8f40f5fd87b",
     "source_hidden": false
    },
    "jupyter": {
     "outputs_hidden": false
    },
    "pycharm": {
     "is_executing": true
    }
   },
   "outputs": [],
   "source": [
    "forecast_results = data.loc[\n",
    "    (data['ds'] >= history_end_date + timedelta(days=1)) &\n",
    "    (data['ds'] <= forecast_end_date),\n",
    "    ['ds', 'cnp_fi', 'cnp_fi_pred']\n",
    "].set_index('ds')\n",
    "forecast_results.plot(figsize=(16, 6))"
   ]
  },
  {
   "cell_type": "code",
   "execution_count": null,
   "metadata": {
    "collapsed": false,
    "gradient": {
     "editing": false,
     "id": "fc0b879e-bfc9-4104-8a55-b0f1c43d86f6",
     "kernelId": "7d709460-bc6b-48fd-b97e-d8f40f5fd87b",
     "source_hidden": false
    },
    "jupyter": {
     "outputs_hidden": false
    },
    "pycharm": {
     "is_executing": true
    }
   },
   "outputs": [],
   "source": [
    "mae = mean_absolute_error(\n",
    "    y_true=forecast_results.loc[:, 'cnp_fi'],\n",
    "    y_pred=forecast_results.loc[:, 'cnp_fi_pred']\n",
    ")\n",
    "print(f'MAE = {mae}')"
   ]
  },
  {
   "cell_type": "code",
   "execution_count": null,
   "metadata": {
    "collapsed": false,
    "gradient": {
     "editing": false,
     "id": "72203735-7377-4261-9e93-f7650ff38ab8",
     "kernelId": "7d709460-bc6b-48fd-b97e-d8f40f5fd87b",
     "source_hidden": false
    },
    "jupyter": {
     "outputs_hidden": false
    },
    "pycharm": {
     "is_executing": true
    }
   },
   "outputs": [],
   "source": [
    "interpretation = best_model.interpret_output(raw_predictions, reduction=\"sum\")\n",
    "best_model.plot_interpretation(interpretation)"
   ]
  },
  {
   "cell_type": "code",
   "execution_count": null,
   "metadata": {
    "collapsed": false,
    "gradient": {
     "editing": false,
     "id": "8deefc0d-f70f-412f-8339-280836e6a0e7",
     "kernelId": "7d709460-bc6b-48fd-b97e-d8f40f5fd87b",
     "source_hidden": false
    },
    "jupyter": {
     "outputs_hidden": false
    },
    "pycharm": {
     "name": "#%%\n",
     "is_executing": true
    }
   },
   "outputs": [],
   "source": [
    "# training_data.head(24)"
   ]
  }
 ],
 "metadata": {
  "kernelspec": {
   "display_name": "Python 3 (ipykernel)",
   "language": "python",
   "name": "python3"
  },
  "language_info": {
   "codemirror_mode": {
    "name": "ipython",
    "version": 3
   },
   "file_extension": ".py",
   "mimetype": "text/x-python",
   "name": "python",
   "nbconvert_exporter": "python",
   "pygments_lexer": "ipython3",
   "version": "3.8.12"
  }
 },
 "nbformat": 4,
 "nbformat_minor": 4
}