{
 "cells": [
  {
   "cell_type": "code",
   "execution_count": 62,
   "outputs": [
    {
     "name": "stderr",
     "output_type": "stream",
     "text": [
      "Global seed set to 666\n"
     ]
    }
   ],
   "source": [
    "import copy\n",
    "import logging\n",
    "import os\n",
    "from typing import Any, Dict, Tuple, Union\n",
    "\n",
    "import numpy as np\n",
    "import pandas as pd\n",
    "import optuna\n",
    "from optuna.integration import PyTorchLightningPruningCallback, TensorBoardCallback\n",
    "import optuna.logging\n",
    "from pytorch_lightning import Callback\n",
    "from pytorch_lightning.callbacks import LearningRateMonitor, EarlyStopping\n",
    "from pytorch_lightning.loggers import TensorBoardLogger\n",
    "import statsmodels.api as sm\n",
    "import torch\n",
    "import pytorch_lightning as pl\n",
    "from torch.utils.data import DataLoader\n",
    "\n",
    "from pytorch_forecasting.metrics import QuantileLoss, NormalDistributionLoss, MASE\n",
    "\n",
    "optuna_logger = logging.getLogger(\"optuna\")\n",
    "pl.seed_everything(666)\n",
    "\n",
    "class MetricsCallback(Callback):\n",
    "    \"\"\"PyTorch Lightning metric callback.\"\"\"\n",
    "\n",
    "    def __init__(self):\n",
    "        super().__init__()\n",
    "        self.metrics = []\n",
    "\n",
    "    def on_validation_end(self, trainer, pl_module):\n",
    "        self.metrics.append(trainer.callback_metrics)\n",
    "\n",
    "def optimize_hyperparameters(\n",
    "        train_dataloader: DataLoader,\n",
    "        val_dataloader: DataLoader,\n",
    "        model_path: str,\n",
    "        max_epochs: int = 100,\n",
    "        n_trials: int = 100,\n",
    "        timeout: float = 3600 * 10.0,  # 10 hours\n",
    "        gradient_clip_val_range: Tuple[float, float] = (0.01, 1.0),\n",
    "        hidden_size_range: Tuple[int, int] = (256, 1024),\n",
    "        learning_rate_range: Tuple[float, float] = (1e-3, 1e-2),\n",
    "        n_blocks_range : Tuple[int, int] = (1, 3),\n",
    "        backcast_loss_ratio_range : Tuple[float, float] = (0.0, 1.0),\n",
    "        trainer_kwargs: Dict[str, Any] = {},\n",
    "        log_dir: str = \"lightning_logs\",\n",
    "        study: optuna.Study = None,\n",
    "        verbose: Union[int, bool] = None,\n",
    "        pruner: optuna.pruners.BasePruner = optuna.pruners.SuccessiveHalvingPruner(),\n",
    "        **kwargs,\n",
    ") -> optuna.Study:\n",
    "\n",
    "    logging_level = {\n",
    "        None: optuna.logging.get_verbosity(),\n",
    "        0: optuna.logging.WARNING,\n",
    "        1: optuna.logging.INFO,\n",
    "        2: optuna.logging.DEBUG,\n",
    "    }\n",
    "    optuna_verbose = logging_level[verbose]\n",
    "    optuna.logging.set_verbosity(optuna_verbose)\n",
    "\n",
    "    loss = kwargs.get(\n",
    "        \"loss\", MASE()\n",
    "    )\n",
    "\n",
    "    # create objective function\n",
    "    def objective(trial: optuna.Trial) -> float:\n",
    "        # Filenames for each trial must be made unique in order to access each checkpoint.\n",
    "        checkpoint_callback = pl.callbacks.ModelCheckpoint(\n",
    "            dirpath=os.path.join(model_path, \"trial_{}\".format(trial.number)), filename=\"{epoch}\", monitor=\"val_loss\"\n",
    "        )\n",
    "\n",
    "        # The default logger in PyTorch Lightning writes to event files to be consumed by\n",
    "        # TensorBoard. We don't use any logger here as it requires us to implement several abstract\n",
    "        # methods. Instead we setup a simple callback, that saves metrics from each validation step.\n",
    "        metrics_callback = MetricsCallback()\n",
    "        learning_rate_callback = LearningRateMonitor()\n",
    "        logger = TensorBoardLogger(log_dir, name=\"optuna\", version=trial.number)\n",
    "        gradient_clip_val = trial.suggest_loguniform(\"gradient_clip_val\", *gradient_clip_val_range)\n",
    "        early_stop_callback = EarlyStopping(\n",
    "            monitor='val_loss',\n",
    "            min_delta=1e-4,\n",
    "            patience=10,\n",
    "            verbose=False,\n",
    "            mode='min'\n",
    "        )\n",
    "        default_trainer_kwargs = dict(\n",
    "            gpus=[0] if torch.cuda.is_available() else None,\n",
    "            max_epochs=max_epochs,\n",
    "            gradient_clip_val=gradient_clip_val,\n",
    "            callbacks=[\n",
    "                metrics_callback,\n",
    "                learning_rate_callback,\n",
    "                checkpoint_callback,\n",
    "                PyTorchLightningPruningCallback(trial, monitor=\"val_loss\"),\n",
    "                early_stop_callback\n",
    "            ],\n",
    "            logger=logger,\n",
    "        )\n",
    "        default_trainer_kwargs.update(trainer_kwargs)\n",
    "        trainer = pl.Trainer(\n",
    "            **default_trainer_kwargs,\n",
    "        )\n",
    "\n",
    "        # create model\n",
    "        hidden_size = trial.suggest_int(\"hidden_size\", *hidden_size_range, log=True)\n",
    "        n_blocks = trial.suggest_int('n_blocks', *n_blocks_range, log=True)\n",
    "        backcast_loss_ratio = trial.suggest_uniform('backcast_loss_ratio', *backcast_loss_ratio_range)\n",
    "        kwargs[\"loss\"] = copy.deepcopy(loss)\n",
    "        model = NHiTS.from_dataset(\n",
    "            train_dataloader.dataset,\n",
    "            hidden_size=hidden_size,\n",
    "            n_blocks=[n_blocks]*3,\n",
    "            backcast_loss_ratio=backcast_loss_ratio,\n",
    "            **kwargs,\n",
    "        )\n",
    "        # find good learning rate\n",
    "        model.hparams.learning_rate = trial.suggest_loguniform(\"learning_rate\", *learning_rate_range)\n",
    "\n",
    "        # fit\n",
    "        trainer.fit(model, train_dataloaders=train_dataloader, val_dataloaders=val_dataloader)\n",
    "\n",
    "        # report result\n",
    "        return metrics_callback.metrics[-1][\"val_loss\"].item()\n",
    "\n",
    "    # setup optuna and run\n",
    "    if study is None:\n",
    "        study = optuna.create_study(direction=\"minimize\", pruner=pruner)\n",
    "    study.optimize(objective, n_trials=n_trials, timeout=timeout)\n",
    "    return study"
   ],
   "metadata": {
    "collapsed": false,
    "pycharm": {
     "name": "#%%\n"
    }
   }
  },
  {
   "cell_type": "code",
   "execution_count": 63,
   "outputs": [
    {
     "name": "stderr",
     "output_type": "stream",
     "text": [
      "Global seed set to 666\n"
     ]
    }
   ],
   "source": [
    "# import copy\n",
    "# import logging\n",
    "# import os\n",
    "# from typing import Any, Dict, Tuple, Union\n",
    "#\n",
    "# import numpy as np\n",
    "# import pandas as pd\n",
    "# import optuna\n",
    "# from optuna.integration import PyTorchLightningPruningCallback, TensorBoardCallback\n",
    "# import optuna.logging\n",
    "# from pytorch_lightning import Callback\n",
    "# from pytorch_lightning.callbacks import LearningRateMonitor, EarlyStopping\n",
    "# from pytorch_lightning.loggers import TensorBoardLogger\n",
    "# import statsmodels.api as sm\n",
    "# import torch\n",
    "# import pytorch_lightning as pl\n",
    "# from torch.utils.data import DataLoader\n",
    "#\n",
    "# from pytorch_forecasting.metrics import QuantileLoss, NormalDistributionLoss, MASE\n",
    "\n",
    "optuna_logger = logging.getLogger(\"optuna\")\n",
    "pl.seed_everything(666)\n",
    "\n",
    "# class MetricsCallback(Callback):\n",
    "#     \"\"\"PyTorch Lightning metric callback.\"\"\"\n",
    "#\n",
    "#     def __init__(self):\n",
    "#         super().__init__()\n",
    "#         self.metrics = []\n",
    "#\n",
    "#     def on_validation_end(self, trainer, pl_module):\n",
    "#         self.metrics.append(trainer.callback_metrics)\n",
    "#\n",
    "#\n",
    "# def optimize_hyperparameters(\n",
    "#         train_dataloader: DataLoader,\n",
    "#         val_dataloader: DataLoader,\n",
    "#         model_path: str,\n",
    "#         max_epochs: int = 20,\n",
    "#         n_trials: int = 100,\n",
    "#         timeout: float = 3600 * 10.0,  # 10 hours\n",
    "#         gradient_clip_val_range: Tuple[float, float] = (0.01, 100.0),\n",
    "#         hidden_size_range: Tuple[int, int] = (256, 1024),\n",
    "#         dropout_range: Tuple[float, float] = (0.1, 0.3),\n",
    "#         learning_rate_range: Tuple[float, float] = (1e-5, 1.0),\n",
    "#         use_learning_rate_finder: bool = True,\n",
    "#         n_layers_range=(2, 4),\n",
    "#         trainer_kwargs: Dict[str, Any] = {},\n",
    "#         log_dir: str = \"lightning_logs\",\n",
    "#         study: optuna.Study = None,\n",
    "#         verbose: Union[int, bool] = None,\n",
    "#         pruner: optuna.pruners.BasePruner = optuna.pruners.SuccessiveHalvingPruner(),\n",
    "#         **kwargs,\n",
    "# ) -> optuna.Study:\n",
    "#     \"\"\"\n",
    "#     Optimize Temporal Fusion Transformer hyperparameters.\n",
    "#\n",
    "#     Run hyperparameter optimization. Learning rate for is determined with\n",
    "#     the PyTorch Lightning learning rate finder.\n",
    "#\n",
    "#     Args:\n",
    "#         train_dataloader (DataLoader): dataloader for training model\n",
    "#         val_dataloader (DataLoader): dataloader for validating model\n",
    "#         model_path (str): folder to which model checkpoints are saved\n",
    "#         max_epochs (int, optional): Maximum number of epochs to run training. Defaults to 20.\n",
    "#         n_trials (int, optional): Number of hyperparameter trials to run. Defaults to 100.\n",
    "#         timeout (float, optional): Time in seconds after which training is stopped regardless of number of epochs\n",
    "#             or validation metric. Defaults to 3600*8.0.\n",
    "#         hidden_size_range (Tuple[int, int], optional): Minimum and maximum of ``hidden_size`` hyperparameter. Defaults\n",
    "#             to (16, 265).\n",
    "#         dropout_range (Tuple[float, float], optional):  Minimum and maximum of ``dropout`` hyperparameter. Defaults to\n",
    "#             (0.1, 0.3).\n",
    "#         learning_rate_range (Tuple[float, float], optional): Learning rate range. Defaults to (1e-5, 1.0).\n",
    "#         use_learning_rate_finder (bool): If to use learning rate finder or optimize as part of hyperparameters.\n",
    "#             Defaults to True.\n",
    "#         trainer_kwargs (Dict[str, Any], optional): Additional arguments to the\n",
    "#             `PyTorch Lightning trainer <https://pytorch-lightning.readthedocs.io/en/latest/trainer.html>`_ such\n",
    "#             as ``limit_train_batches``. Defaults to {}.\n",
    "#         log_dir (str, optional): Folder into which to log results for tensorboard. Defaults to \"lightning_logs\".\n",
    "#         study (optuna.Study, optional): study to resume. Will create new study by default.\n",
    "#         verbose (Union[int, bool]): level of verbosity.\n",
    "#             * None: no change in verbosity level (equivalent to verbose=1 by optuna-set default).\n",
    "#             * 0 or False: log only warnings.\n",
    "#             * 1 or True: log pruning events.\n",
    "#             * 2: optuna logging level at debug level.\n",
    "#             Defaults to None.\n",
    "#         pruner (optuna.pruners.BasePruner, optional): The optuna pruner to use.\n",
    "#             Defaults to optuna.pruners.SuccessiveHalvingPruner().\n",
    "#\n",
    "#         **kwargs: Additional arguments for the :py:class:`~TemporalFusionTransformer`.\n",
    "#\n",
    "#     Returns:\n",
    "#         optuna.Study: optuna study results\n",
    "#     \"\"\"\n",
    "#     assert isinstance(train_dataloader.dataset, TimeSeriesDataSet) and isinstance(\n",
    "#         val_dataloader.dataset, TimeSeriesDataSet\n",
    "#     ), \"dataloaders must be built from timeseriesdataset\"\n",
    "#\n",
    "#     logging_level = {\n",
    "#         None: optuna.logging.get_verbosity(),\n",
    "#         0: optuna.logging.WARNING,\n",
    "#         1: optuna.logging.INFO,\n",
    "#         2: optuna.logging.DEBUG,\n",
    "#     }\n",
    "#     optuna_verbose = logging_level[verbose]\n",
    "#     optuna.logging.set_verbosity(optuna_verbose)\n",
    "#\n",
    "#     loss = kwargs.get(\n",
    "#         \"loss\", MASE()\n",
    "#     )  # need a deepcopy of loss as it will otherwise propagate from one trial to the next\n",
    "#\n",
    "#     # create objective function\n",
    "#     def objective(trial: optuna.Trial) -> float:\n",
    "#         # Filenames for each trial must be made unique in order to access each checkpoint.\n",
    "#         checkpoint_callback = pl.callbacks.ModelCheckpoint(\n",
    "#             dirpath=os.path.join(model_path, \"trial_{}\".format(trial.number)), filename=\"{epoch}\", monitor=\"val_loss\"\n",
    "#         )\n",
    "#\n",
    "#         # The default logger in PyTorch Lightning writes to event files to be consumed by\n",
    "#         # TensorBoard. We don't use any logger here as it requires us to implement several abstract\n",
    "#         # methods. Instead we setup a simple callback, that saves metrics from each validation step.\n",
    "#         metrics_callback = MetricsCallback()\n",
    "#         learning_rate_callback = LearningRateMonitor()\n",
    "#         logger = TensorBoardLogger(log_dir, name=\"optuna\", version=trial.number)\n",
    "#         gradient_clip_val = trial.suggest_loguniform(\"gradient_clip_val\", *gradient_clip_val_range)\n",
    "#         early_stop_callback = EarlyStopping(\n",
    "#             monitor='val_loss',\n",
    "#             min_delta=1e-4,\n",
    "#             patience=10,\n",
    "#             verbose=False,\n",
    "#             mode='min'\n",
    "#         )\n",
    "#         default_trainer_kwargs = dict(\n",
    "#             gpus=[0] if torch.cuda.is_available() else None,\n",
    "#             max_epochs=max_epochs,\n",
    "#             gradient_clip_val=gradient_clip_val,\n",
    "#             callbacks=[\n",
    "#                 metrics_callback,\n",
    "#                 learning_rate_callback,\n",
    "#                 checkpoint_callback,\n",
    "#                 PyTorchLightningPruningCallback(trial, monitor=\"val_loss\"),\n",
    "#                 early_stop_callback\n",
    "#             ],\n",
    "#             logger=logger,\n",
    "#         )\n",
    "#         default_trainer_kwargs.update(trainer_kwargs)\n",
    "#         trainer = pl.Trainer(\n",
    "#             **default_trainer_kwargs,\n",
    "#         )\n",
    "#\n",
    "#         # create model\n",
    "#         hidden_size = trial.suggest_int(\"hidden_size\", *hidden_size_range, log=True)\n",
    "#         dropout = trial.suggest_uniform('dropout', *dropout_range)\n",
    "#         n_layers = trial.suggest_int('n_layers_range', *n_layers_range, log=True)\n",
    "#         kwargs[\"loss\"] = copy.deepcopy(loss)\n",
    "#         model = NHiTS.from_dataset(\n",
    "#             train_dataloader.dataset,\n",
    "#             dropout=dropout,\n",
    "#             hidden_size=hidden_size,\n",
    "#             n_layers=n_layers,\n",
    "#             log_interval=-1,\n",
    "#             **kwargs,\n",
    "#         )\n",
    "#         # find good learning rate\n",
    "#         if use_learning_rate_finder:\n",
    "#             lr_trainer = pl.Trainer(\n",
    "#                 gradient_clip_val=gradient_clip_val,\n",
    "#                 gpus=[0] if torch.cuda.is_available() else None,\n",
    "#                 logger=False,\n",
    "#                 progress_bar_refresh_rate=0,\n",
    "#                 weights_summary=None,\n",
    "#             )\n",
    "#             res = lr_trainer.tuner.lr_find(\n",
    "#                 model,\n",
    "#                 train_dataloader=train_dataloader,\n",
    "#                 val_dataloaders=val_dataloader,\n",
    "#                 early_stop_threshold=10000,\n",
    "#                 min_lr=learning_rate_range[0],\n",
    "#                 num_training=100,\n",
    "#                 max_lr=learning_rate_range[1],\n",
    "#             )\n",
    "#\n",
    "#             loss_finite = np.isfinite(res.results[\"loss\"])\n",
    "#             if loss_finite.sum() > 3:  # at least 3 valid values required for learning rate finder\n",
    "#                 lr_smoothed, loss_smoothed = sm.nonparametric.lowess(\n",
    "#                     np.asarray(res.results[\"loss\"])[loss_finite],\n",
    "#                     np.asarray(res.results[\"lr\"])[loss_finite],\n",
    "#                     frac=1.0 / 10.0,\n",
    "#                 )[min(loss_finite.sum() - 3, 10) : -1].T\n",
    "#                 optimal_idx = np.gradient(loss_smoothed).argmin()\n",
    "#                 optimal_lr = lr_smoothed[optimal_idx]\n",
    "#             else:\n",
    "#                 optimal_idx = np.asarray(res.results[\"loss\"]).argmin()\n",
    "#                 optimal_lr = res.results[\"lr\"][optimal_idx]\n",
    "#             optuna_logger.info(f\"Using learning rate of {optimal_lr:.3g}\")\n",
    "#             # add learning rate artificially\n",
    "#             model.hparams.learning_rate = trial.suggest_uniform(\"learning_rate\", optimal_lr, optimal_lr)\n",
    "#         else:\n",
    "#             model.hparams.learning_rate = trial.suggest_loguniform(\"learning_rate\", *learning_rate_range)\n",
    "#\n",
    "#         # fit\n",
    "#         trainer.fit(model, train_dataloaders=train_dataloader, val_dataloaders=val_dataloader)\n",
    "#\n",
    "#         # report result\n",
    "#         return metrics_callback.metrics[-1][\"val_loss\"].item()\n",
    "#\n",
    "#     # setup optuna and run\n",
    "#     if study is None:\n",
    "#         study = optuna.create_study(direction=\"minimize\", pruner=pruner)\n",
    "#     study.optimize(objective, n_trials=n_trials, timeout=timeout)\n",
    "#     return study\n",
    "\n",
    "def split_dataframe(\n",
    "        data: pd.DataFrame,\n",
    "        train: float = 0.7,\n",
    "        val: float = 0.2,\n",
    "        test: float = 0.1\n",
    ") -> Tuple[pd.DataFrame, pd.DataFrame, pd.DataFrame]:\n",
    "    hours_range = pd.date_range(\n",
    "        start=data.loc[:, 'ds'].min(),\n",
    "        end=data.loc[:, 'ds'].max(),\n",
    "        freq='H'\n",
    "    )\n",
    "    num_hours = hours_range.size\n",
    "    test_data = pd.DataFrame()\n",
    "\n",
    "    if test:\n",
    "        train_data = data.loc[\n",
    "                     data['ds'] < hours_range[int(train*num_hours)],\n",
    "                     :\n",
    "                     ]\n",
    "        val_data = data.loc[\n",
    "                   (data['ds'] >= hours_range[int(train*num_hours)]) &\n",
    "                   (data['ds'] < hours_range[int((train+val)*num_hours)]),\n",
    "                   :\n",
    "                   ]\n",
    "        test_data = data.loc[\n",
    "                    data['ds'] >= hours_range[int((train+val)*num_hours)],\n",
    "                    :\n",
    "                    ]\n",
    "    else:\n",
    "        train_data = data.loc[\n",
    "                     data['ds'] < hours_range[int(train*num_hours)],\n",
    "                     :\n",
    "                     ]\n",
    "        val_data = data.loc[\n",
    "                   (data['ds'] >= hours_range[int(train*num_hours)]),\n",
    "                   :\n",
    "                   ]\n",
    "    return train_data, val_data, test_data\n",
    "\n",
    "def create_dataset(df: pd.DataFrame, column_names: list) -> pd.DataFrame:\n",
    "    result = df.melt(\n",
    "        id_vars=['ds'],\n",
    "        value_vars=column_names\n",
    "    )\n",
    "    groups_dict = {key: value for value, key in enumerate(column_names)}\n",
    "    time_idx = np.tile(np.arange(data.shape[0]), len(column_names))\n",
    "    result['time_idx'] = time_idx\n",
    "    result['group'] = result.apply(lambda x: groups_dict.get(x['variable'], 0), axis=1)\n",
    "\n",
    "    result['date'] = result.apply(lambda x: pd.to_datetime(x['ds'].date()), axis=1)\n",
    "    result['country'] = result.apply(lambda x: x['variable'].split('_')[-1][:2], axis=1)\n",
    "\n",
    "    special_days = pd.read_excel('syspower_dict.xlsx', 'calendar')\n",
    "    special_days.columns = ['date', 'country', 'spec_day']\n",
    "    special_days['country'] = special_days.apply(lambda x: x['country'].lower(), axis=1)\n",
    "    special_days['spec_day'] = special_days['spec_day'] + 1\n",
    "    result['weekday'] = result.apply(lambda x: x['ds'].weekday(), axis=1)\n",
    "\n",
    "    result = pd.merge(left=result, right=special_days, on=['date', 'country'], how='left').fillna(value=0).drop_duplicates().reset_index(drop=True)\n",
    "\n",
    "    result['day_type'] = result.apply(\n",
    "        lambda x: 'holiday' if (x['weekday'] == 5 or x['weekday'] == 6 or x['spec_day'] != 0) else 'common',\n",
    "        axis=1\n",
    "    )\n",
    "\n",
    "    result['hour'] = result.apply(lambda x: x['ds'].hour, axis=1).astype(str).astype('category')\n",
    "    result['weekday'] = result['weekday'].astype(str).astype('category')\n",
    "    result['month'] = result.apply(lambda x: x['ds'].month, axis=1).astype(str).astype('category')\n",
    "    result['spec_day'] = result['spec_day'].astype(str).astype('category')\n",
    "\n",
    "    return result\n",
    "\n",
    "def add_covariates(df: pd.DataFrame, target_column_names: list) -> pd.DataFrame:\n",
    "    df_list = [df] * len(target_column_names)\n",
    "    result_df = pd.concat(df_list, ignore_index=True)\n",
    "    return result_df"
   ],
   "metadata": {
    "collapsed": false,
    "pycharm": {
     "name": "#%%\n"
    }
   }
  },
  {
   "cell_type": "code",
   "execution_count": 64,
   "outputs": [
    {
     "data": {
      "text/plain": "                      ds  cnp_np  cnp_se  cnp_se1  cnp_se2  cnp_se3  cnp_se4  \\\n9024 2021-12-12 00:00:00   48.17   16.79     1.36     1.97    10.59     2.87   \n9025 2021-12-12 01:00:00   47.39   16.58     1.36     1.95    10.45     2.81   \n9026 2021-12-12 02:00:00   46.75   16.41     1.35     1.95    10.31     2.79   \n9027 2021-12-12 03:00:00   46.60   16.43     1.41     2.01    10.22     2.79   \n9028 2021-12-12 04:00:00   46.68   16.47     1.36     2.04    10.26     2.81   \n9029 2021-12-12 05:00:00   47.13   16.62     1.38     2.09    10.29     2.86   \n9030 2021-12-12 06:00:00   47.85   17.03     1.29     2.22    10.58     2.94   \n9031 2021-12-12 07:00:00   49.25   17.61     1.44     2.21    10.93     3.03   \n9032 2021-12-12 08:00:00   50.40   18.05     1.32     2.25    11.38     3.11   \n9033 2021-12-12 09:00:00   52.18   18.75     1.41     2.34    11.76     3.23   \n9034 2021-12-12 10:00:00   53.17   19.26     1.42     2.32    12.16     3.37   \n9035 2021-12-12 11:00:00   53.55   19.45     1.39     2.25    12.36     3.46   \n9036 2021-12-12 12:00:00   53.71   19.45     1.43     2.13    12.43     3.46   \n9037 2021-12-12 13:00:00   54.21   19.50     1.54     2.14    12.37     3.45   \n9038 2021-12-12 14:00:00   54.61   19.62     1.64     2.18    12.42     3.39   \n9039 2021-12-12 15:00:00   55.35   20.14     1.62     2.25    12.82     3.45   \n9040 2021-12-12 16:00:00   55.69   20.33     1.48     2.33    12.95     3.57   \n9041 2021-12-12 17:00:00   56.17   20.66     1.53     2.41    13.11     3.61   \n9042 2021-12-12 18:00:00   55.83   20.64     1.57     2.44    13.05     3.58   \n9043 2021-12-12 19:00:00   54.99   20.37     1.63     2.39    12.85     3.50   \n9044 2021-12-12 20:00:00   53.76   19.82     1.52     2.32    12.58     3.40   \n9045 2021-12-12 21:00:00   52.45   18.99     1.35     2.22    12.18     3.24   \n9046 2021-12-12 22:00:00   50.98   18.23     1.39     2.05    11.66     3.13   \n9047 2021-12-12 23:00:00   49.21   17.46     1.35     1.98    11.15     2.98   \n\n      cnp_no  cnp_no1  cnp_no2  cnp_no3  cnp_no4  cnp_no5  cnp_dk  cnp_dk1  \\\n9024   16.97     4.51     4.58     3.42     2.38     2.09    3.87     2.32   \n9025   16.76     4.36     4.52     3.50     2.34     2.03    3.76     2.22   \n9026   16.54     4.26     4.47     3.51     2.26     2.04    3.68     2.20   \n9027   16.53     4.23     4.52     3.57     2.17     2.04    3.55     2.11   \n9028   16.58     4.24     4.57     3.53     2.21     2.03    3.50     2.09   \n9029   16.68     4.30     4.58     3.46     2.30     2.03    3.52     2.09   \n9030   16.80     4.42     4.53     3.49     2.30     2.05    3.66     2.17   \n9031   17.02     4.55     4.52     3.50     2.35     2.09    3.94     2.34   \n9032   17.41     4.73     4.66     3.54     2.34     2.16    4.20     2.51   \n9033   18.08     4.93     4.94     3.60     2.37     2.25    4.54     2.72   \n9034   18.27     5.13     4.94     3.55     2.39     2.26    4.73     2.78   \n9035   18.42     5.25     4.97     3.49     2.43     2.29    4.67     2.72   \n9036   18.52     5.28     4.97     3.60     2.47     2.21    4.78     2.79   \n9037   18.94     5.32     5.07     3.79     2.49     2.28    4.79     2.83   \n9038   19.04     5.32     5.12     3.86     2.44     2.30    4.73     2.81   \n9039   19.16     5.38     5.20     3.81     2.43     2.33    4.72     2.74   \n9040   19.00     5.41     5.20     3.57     2.47     2.36    4.95     2.88   \n9041   19.02     5.40     5.18     3.63     2.47     2.34    5.12     3.01   \n9042   18.80     5.33     5.07     3.60     2.48     2.32    5.01     2.92   \n9043   18.75     5.27     4.99     3.66     2.52     2.31    4.77     2.79   \n9044   18.66     5.18     4.87     3.77     2.56     2.29    4.50     2.62   \n9045   18.20     5.05     4.79     3.61     2.52     2.24    4.22     2.50   \n9046   17.85     4.86     4.77     3.58     2.47     2.18    3.97     2.37   \n9047   17.41     4.65     4.75     3.51     2.40     2.11    3.77     2.28   \n\n      cnp_dk2  cnp_fi  \n9024     1.55   10.54  \n9025     1.54   10.29  \n9026     1.48   10.12  \n9027     1.45   10.08  \n9028     1.41   10.13  \n9029     1.43   10.30  \n9030     1.49   10.36  \n9031     1.60   10.67  \n9032     1.69   10.73  \n9033     1.82   10.82  \n9034     1.95   10.91  \n9035     1.96   11.01  \n9036     1.99   10.95  \n9037     1.95   10.98  \n9038     1.92   11.21  \n9039     1.98   11.33  \n9040     2.07   11.40  \n9041     2.11   11.37  \n9042     2.09   11.37  \n9043     1.99   11.10  \n9044     1.88   10.78  \n9045     1.72   11.04  \n9046     1.59   10.94  \n9047     1.48   10.57  ",
      "text/html": "<div>\n<style scoped>\n    .dataframe tbody tr th:only-of-type {\n        vertical-align: middle;\n    }\n\n    .dataframe tbody tr th {\n        vertical-align: top;\n    }\n\n    .dataframe thead th {\n        text-align: right;\n    }\n</style>\n<table border=\"1\" class=\"dataframe\">\n  <thead>\n    <tr style=\"text-align: right;\">\n      <th></th>\n      <th>ds</th>\n      <th>cnp_np</th>\n      <th>cnp_se</th>\n      <th>cnp_se1</th>\n      <th>cnp_se2</th>\n      <th>cnp_se3</th>\n      <th>cnp_se4</th>\n      <th>cnp_no</th>\n      <th>cnp_no1</th>\n      <th>cnp_no2</th>\n      <th>cnp_no3</th>\n      <th>cnp_no4</th>\n      <th>cnp_no5</th>\n      <th>cnp_dk</th>\n      <th>cnp_dk1</th>\n      <th>cnp_dk2</th>\n      <th>cnp_fi</th>\n    </tr>\n  </thead>\n  <tbody>\n    <tr>\n      <th>9024</th>\n      <td>2021-12-12 00:00:00</td>\n      <td>48.17</td>\n      <td>16.79</td>\n      <td>1.36</td>\n      <td>1.97</td>\n      <td>10.59</td>\n      <td>2.87</td>\n      <td>16.97</td>\n      <td>4.51</td>\n      <td>4.58</td>\n      <td>3.42</td>\n      <td>2.38</td>\n      <td>2.09</td>\n      <td>3.87</td>\n      <td>2.32</td>\n      <td>1.55</td>\n      <td>10.54</td>\n    </tr>\n    <tr>\n      <th>9025</th>\n      <td>2021-12-12 01:00:00</td>\n      <td>47.39</td>\n      <td>16.58</td>\n      <td>1.36</td>\n      <td>1.95</td>\n      <td>10.45</td>\n      <td>2.81</td>\n      <td>16.76</td>\n      <td>4.36</td>\n      <td>4.52</td>\n      <td>3.50</td>\n      <td>2.34</td>\n      <td>2.03</td>\n      <td>3.76</td>\n      <td>2.22</td>\n      <td>1.54</td>\n      <td>10.29</td>\n    </tr>\n    <tr>\n      <th>9026</th>\n      <td>2021-12-12 02:00:00</td>\n      <td>46.75</td>\n      <td>16.41</td>\n      <td>1.35</td>\n      <td>1.95</td>\n      <td>10.31</td>\n      <td>2.79</td>\n      <td>16.54</td>\n      <td>4.26</td>\n      <td>4.47</td>\n      <td>3.51</td>\n      <td>2.26</td>\n      <td>2.04</td>\n      <td>3.68</td>\n      <td>2.20</td>\n      <td>1.48</td>\n      <td>10.12</td>\n    </tr>\n    <tr>\n      <th>9027</th>\n      <td>2021-12-12 03:00:00</td>\n      <td>46.60</td>\n      <td>16.43</td>\n      <td>1.41</td>\n      <td>2.01</td>\n      <td>10.22</td>\n      <td>2.79</td>\n      <td>16.53</td>\n      <td>4.23</td>\n      <td>4.52</td>\n      <td>3.57</td>\n      <td>2.17</td>\n      <td>2.04</td>\n      <td>3.55</td>\n      <td>2.11</td>\n      <td>1.45</td>\n      <td>10.08</td>\n    </tr>\n    <tr>\n      <th>9028</th>\n      <td>2021-12-12 04:00:00</td>\n      <td>46.68</td>\n      <td>16.47</td>\n      <td>1.36</td>\n      <td>2.04</td>\n      <td>10.26</td>\n      <td>2.81</td>\n      <td>16.58</td>\n      <td>4.24</td>\n      <td>4.57</td>\n      <td>3.53</td>\n      <td>2.21</td>\n      <td>2.03</td>\n      <td>3.50</td>\n      <td>2.09</td>\n      <td>1.41</td>\n      <td>10.13</td>\n    </tr>\n    <tr>\n      <th>9029</th>\n      <td>2021-12-12 05:00:00</td>\n      <td>47.13</td>\n      <td>16.62</td>\n      <td>1.38</td>\n      <td>2.09</td>\n      <td>10.29</td>\n      <td>2.86</td>\n      <td>16.68</td>\n      <td>4.30</td>\n      <td>4.58</td>\n      <td>3.46</td>\n      <td>2.30</td>\n      <td>2.03</td>\n      <td>3.52</td>\n      <td>2.09</td>\n      <td>1.43</td>\n      <td>10.30</td>\n    </tr>\n    <tr>\n      <th>9030</th>\n      <td>2021-12-12 06:00:00</td>\n      <td>47.85</td>\n      <td>17.03</td>\n      <td>1.29</td>\n      <td>2.22</td>\n      <td>10.58</td>\n      <td>2.94</td>\n      <td>16.80</td>\n      <td>4.42</td>\n      <td>4.53</td>\n      <td>3.49</td>\n      <td>2.30</td>\n      <td>2.05</td>\n      <td>3.66</td>\n      <td>2.17</td>\n      <td>1.49</td>\n      <td>10.36</td>\n    </tr>\n    <tr>\n      <th>9031</th>\n      <td>2021-12-12 07:00:00</td>\n      <td>49.25</td>\n      <td>17.61</td>\n      <td>1.44</td>\n      <td>2.21</td>\n      <td>10.93</td>\n      <td>3.03</td>\n      <td>17.02</td>\n      <td>4.55</td>\n      <td>4.52</td>\n      <td>3.50</td>\n      <td>2.35</td>\n      <td>2.09</td>\n      <td>3.94</td>\n      <td>2.34</td>\n      <td>1.60</td>\n      <td>10.67</td>\n    </tr>\n    <tr>\n      <th>9032</th>\n      <td>2021-12-12 08:00:00</td>\n      <td>50.40</td>\n      <td>18.05</td>\n      <td>1.32</td>\n      <td>2.25</td>\n      <td>11.38</td>\n      <td>3.11</td>\n      <td>17.41</td>\n      <td>4.73</td>\n      <td>4.66</td>\n      <td>3.54</td>\n      <td>2.34</td>\n      <td>2.16</td>\n      <td>4.20</td>\n      <td>2.51</td>\n      <td>1.69</td>\n      <td>10.73</td>\n    </tr>\n    <tr>\n      <th>9033</th>\n      <td>2021-12-12 09:00:00</td>\n      <td>52.18</td>\n      <td>18.75</td>\n      <td>1.41</td>\n      <td>2.34</td>\n      <td>11.76</td>\n      <td>3.23</td>\n      <td>18.08</td>\n      <td>4.93</td>\n      <td>4.94</td>\n      <td>3.60</td>\n      <td>2.37</td>\n      <td>2.25</td>\n      <td>4.54</td>\n      <td>2.72</td>\n      <td>1.82</td>\n      <td>10.82</td>\n    </tr>\n    <tr>\n      <th>9034</th>\n      <td>2021-12-12 10:00:00</td>\n      <td>53.17</td>\n      <td>19.26</td>\n      <td>1.42</td>\n      <td>2.32</td>\n      <td>12.16</td>\n      <td>3.37</td>\n      <td>18.27</td>\n      <td>5.13</td>\n      <td>4.94</td>\n      <td>3.55</td>\n      <td>2.39</td>\n      <td>2.26</td>\n      <td>4.73</td>\n      <td>2.78</td>\n      <td>1.95</td>\n      <td>10.91</td>\n    </tr>\n    <tr>\n      <th>9035</th>\n      <td>2021-12-12 11:00:00</td>\n      <td>53.55</td>\n      <td>19.45</td>\n      <td>1.39</td>\n      <td>2.25</td>\n      <td>12.36</td>\n      <td>3.46</td>\n      <td>18.42</td>\n      <td>5.25</td>\n      <td>4.97</td>\n      <td>3.49</td>\n      <td>2.43</td>\n      <td>2.29</td>\n      <td>4.67</td>\n      <td>2.72</td>\n      <td>1.96</td>\n      <td>11.01</td>\n    </tr>\n    <tr>\n      <th>9036</th>\n      <td>2021-12-12 12:00:00</td>\n      <td>53.71</td>\n      <td>19.45</td>\n      <td>1.43</td>\n      <td>2.13</td>\n      <td>12.43</td>\n      <td>3.46</td>\n      <td>18.52</td>\n      <td>5.28</td>\n      <td>4.97</td>\n      <td>3.60</td>\n      <td>2.47</td>\n      <td>2.21</td>\n      <td>4.78</td>\n      <td>2.79</td>\n      <td>1.99</td>\n      <td>10.95</td>\n    </tr>\n    <tr>\n      <th>9037</th>\n      <td>2021-12-12 13:00:00</td>\n      <td>54.21</td>\n      <td>19.50</td>\n      <td>1.54</td>\n      <td>2.14</td>\n      <td>12.37</td>\n      <td>3.45</td>\n      <td>18.94</td>\n      <td>5.32</td>\n      <td>5.07</td>\n      <td>3.79</td>\n      <td>2.49</td>\n      <td>2.28</td>\n      <td>4.79</td>\n      <td>2.83</td>\n      <td>1.95</td>\n      <td>10.98</td>\n    </tr>\n    <tr>\n      <th>9038</th>\n      <td>2021-12-12 14:00:00</td>\n      <td>54.61</td>\n      <td>19.62</td>\n      <td>1.64</td>\n      <td>2.18</td>\n      <td>12.42</td>\n      <td>3.39</td>\n      <td>19.04</td>\n      <td>5.32</td>\n      <td>5.12</td>\n      <td>3.86</td>\n      <td>2.44</td>\n      <td>2.30</td>\n      <td>4.73</td>\n      <td>2.81</td>\n      <td>1.92</td>\n      <td>11.21</td>\n    </tr>\n    <tr>\n      <th>9039</th>\n      <td>2021-12-12 15:00:00</td>\n      <td>55.35</td>\n      <td>20.14</td>\n      <td>1.62</td>\n      <td>2.25</td>\n      <td>12.82</td>\n      <td>3.45</td>\n      <td>19.16</td>\n      <td>5.38</td>\n      <td>5.20</td>\n      <td>3.81</td>\n      <td>2.43</td>\n      <td>2.33</td>\n      <td>4.72</td>\n      <td>2.74</td>\n      <td>1.98</td>\n      <td>11.33</td>\n    </tr>\n    <tr>\n      <th>9040</th>\n      <td>2021-12-12 16:00:00</td>\n      <td>55.69</td>\n      <td>20.33</td>\n      <td>1.48</td>\n      <td>2.33</td>\n      <td>12.95</td>\n      <td>3.57</td>\n      <td>19.00</td>\n      <td>5.41</td>\n      <td>5.20</td>\n      <td>3.57</td>\n      <td>2.47</td>\n      <td>2.36</td>\n      <td>4.95</td>\n      <td>2.88</td>\n      <td>2.07</td>\n      <td>11.40</td>\n    </tr>\n    <tr>\n      <th>9041</th>\n      <td>2021-12-12 17:00:00</td>\n      <td>56.17</td>\n      <td>20.66</td>\n      <td>1.53</td>\n      <td>2.41</td>\n      <td>13.11</td>\n      <td>3.61</td>\n      <td>19.02</td>\n      <td>5.40</td>\n      <td>5.18</td>\n      <td>3.63</td>\n      <td>2.47</td>\n      <td>2.34</td>\n      <td>5.12</td>\n      <td>3.01</td>\n      <td>2.11</td>\n      <td>11.37</td>\n    </tr>\n    <tr>\n      <th>9042</th>\n      <td>2021-12-12 18:00:00</td>\n      <td>55.83</td>\n      <td>20.64</td>\n      <td>1.57</td>\n      <td>2.44</td>\n      <td>13.05</td>\n      <td>3.58</td>\n      <td>18.80</td>\n      <td>5.33</td>\n      <td>5.07</td>\n      <td>3.60</td>\n      <td>2.48</td>\n      <td>2.32</td>\n      <td>5.01</td>\n      <td>2.92</td>\n      <td>2.09</td>\n      <td>11.37</td>\n    </tr>\n    <tr>\n      <th>9043</th>\n      <td>2021-12-12 19:00:00</td>\n      <td>54.99</td>\n      <td>20.37</td>\n      <td>1.63</td>\n      <td>2.39</td>\n      <td>12.85</td>\n      <td>3.50</td>\n      <td>18.75</td>\n      <td>5.27</td>\n      <td>4.99</td>\n      <td>3.66</td>\n      <td>2.52</td>\n      <td>2.31</td>\n      <td>4.77</td>\n      <td>2.79</td>\n      <td>1.99</td>\n      <td>11.10</td>\n    </tr>\n    <tr>\n      <th>9044</th>\n      <td>2021-12-12 20:00:00</td>\n      <td>53.76</td>\n      <td>19.82</td>\n      <td>1.52</td>\n      <td>2.32</td>\n      <td>12.58</td>\n      <td>3.40</td>\n      <td>18.66</td>\n      <td>5.18</td>\n      <td>4.87</td>\n      <td>3.77</td>\n      <td>2.56</td>\n      <td>2.29</td>\n      <td>4.50</td>\n      <td>2.62</td>\n      <td>1.88</td>\n      <td>10.78</td>\n    </tr>\n    <tr>\n      <th>9045</th>\n      <td>2021-12-12 21:00:00</td>\n      <td>52.45</td>\n      <td>18.99</td>\n      <td>1.35</td>\n      <td>2.22</td>\n      <td>12.18</td>\n      <td>3.24</td>\n      <td>18.20</td>\n      <td>5.05</td>\n      <td>4.79</td>\n      <td>3.61</td>\n      <td>2.52</td>\n      <td>2.24</td>\n      <td>4.22</td>\n      <td>2.50</td>\n      <td>1.72</td>\n      <td>11.04</td>\n    </tr>\n    <tr>\n      <th>9046</th>\n      <td>2021-12-12 22:00:00</td>\n      <td>50.98</td>\n      <td>18.23</td>\n      <td>1.39</td>\n      <td>2.05</td>\n      <td>11.66</td>\n      <td>3.13</td>\n      <td>17.85</td>\n      <td>4.86</td>\n      <td>4.77</td>\n      <td>3.58</td>\n      <td>2.47</td>\n      <td>2.18</td>\n      <td>3.97</td>\n      <td>2.37</td>\n      <td>1.59</td>\n      <td>10.94</td>\n    </tr>\n    <tr>\n      <th>9047</th>\n      <td>2021-12-12 23:00:00</td>\n      <td>49.21</td>\n      <td>17.46</td>\n      <td>1.35</td>\n      <td>1.98</td>\n      <td>11.15</td>\n      <td>2.98</td>\n      <td>17.41</td>\n      <td>4.65</td>\n      <td>4.75</td>\n      <td>3.51</td>\n      <td>2.40</td>\n      <td>2.11</td>\n      <td>3.77</td>\n      <td>2.28</td>\n      <td>1.48</td>\n      <td>10.57</td>\n    </tr>\n  </tbody>\n</table>\n</div>"
     },
     "execution_count": 64,
     "metadata": {},
     "output_type": "execute_result"
    },
    {
     "data": {
      "text/plain": "<Figure size 1152x360 with 1 Axes>",
      "image/png": "[encoded data removed]"
     },
     "metadata": {
      "needs_background": "light"
     },
     "output_type": "display_data"
    }
   ],
   "source": [
    "import pandas as pd\n",
    "import matplotlib.pyplot as plt\n",
    "from datetime import date, datetime, timedelta\n",
    "import os\n",
    "import logging\n",
    "import urllib.parse as url\n",
    "import warnings\n",
    "import numpy as np\n",
    "\n",
    "warnings.filterwarnings(\"ignore\")\n",
    "\n",
    "data_series = [\n",
    "    'CNPNP',\n",
    "    'CNPSE', 'CNPSE1', 'CNPSE2', 'CNPSE3', 'CNPSE4',\n",
    "    'CNPNO', 'CNPNO1', 'CNPNO2', 'CNPNO3', 'CNPNO4', 'CNPNO5',\n",
    "    'CNPDEN', 'CNPDK1', 'CNPDK2',\n",
    "    'CNPFI'\n",
    "]\n",
    "column_names = [\n",
    "    'cnp_np',\n",
    "    'cnp_se', 'cnp_se1', 'cnp_se2', 'cnp_se3', 'cnp_se4',\n",
    "    'cnp_no', 'cnp_no1', 'cnp_no2', 'cnp_no3', 'cnp_no4', 'cnp_no5',\n",
    "    'cnp_dk', 'cnp_dk1', 'cnp_dk2',\n",
    "    'cnp_fi'\n",
    "]\n",
    "\n",
    "history_start_date = datetime(year=2020, month=12, day=1)\n",
    "history_end_date = datetime(year=2021, month=12, day=5)\n",
    "forecast_end_date = datetime(year=2021, month=12, day=12)\n",
    "\n",
    "request = {\n",
    "    \"series\": ','.join(data_series),\n",
    "    'interval': 'hour',\n",
    "    'start': history_start_date.strftime('%Y-%m-%d'),\n",
    "    'end': forecast_end_date.strftime('%Y-%m-%d'),\n",
    "    'token': '8ycj3jSf2DJZOtX',\n",
    "    #'token': '7EMf0VCcZxcIdBy',\n",
    "    'emptydata': 'yes',\n",
    "    'currency': '',\n",
    "    'dateFormat': 'nbno',\n",
    "    'numberFormat': 'nothousandsdot',\n",
    "    'fileformat': 'csv',\n",
    "    'headers': 'no'\n",
    "}\n",
    "\n",
    "dataUrl = f'https://syspower5.skm.no/api/webquery/execute?{url.urlencode(request)}'\n",
    "data = pd.read_csv(dataUrl, sep=';', index_col=0, parse_dates=True, dayfirst=True,\n",
    "                   header=None, names = ['ds'] + column_names).interpolate().reset_index()\n",
    "\n",
    "data.plot(x='ds', y='cnp_fi', figsize=(16, 5))\n",
    "data.tail(24)"
   ],
   "metadata": {
    "collapsed": false,
    "pycharm": {
     "name": "#%%\n"
    }
   }
  },
  {
   "cell_type": "code",
   "execution_count": 65,
   "outputs": [
    {
     "data": {
      "text/plain": "<Figure size 1152x360 with 1 Axes>",
      "image/png": "[encoded data removed]"
     },
     "metadata": {
      "needs_background": "light"
     },
     "output_type": "display_data"
    },
    {
     "data": {
      "text/plain": "<Figure size 1152x360 with 1 Axes>",
      "image/png": "[encoded data removed]"
     },
     "metadata": {
      "needs_background": "light"
     },
     "output_type": "display_data"
    },
    {
     "data": {
      "text/plain": "<Figure size 1152x360 with 1 Axes>",
      "image/png": "[encoded data removed]"
     },
     "metadata": {
      "needs_background": "light"
     },
     "output_type": "display_data"
    },
    {
     "data": {
      "text/plain": "<Figure size 1152x360 with 1 Axes>",
      "image/png": "[encoded data removed]"
     },
     "metadata": {
      "needs_background": "light"
     },
     "output_type": "display_data"
    }
   ],
   "source": [
    "data_series_exog = [\n",
    "    'SMHITEMPFI_F', 'SMHITEMPSE_F', 'SMHITEMPNO_F', 'SMHITEMPNP_F', 'SMHITEMPDK_F'\n",
    "]\n",
    "column_names_exog = [\n",
    "    'temp_fi', 'temp_se', 'temp_no', 'temp_np', 'temp_dk'\n",
    "]\n",
    "\n",
    "temp_date = forecast_end_date + timedelta(days=1)\n",
    "request = {\n",
    "    \"series\": ','.join(data_series_exog),\n",
    "    'interval': 'day',\n",
    "    'start': history_start_date.strftime('%Y-%m-%d'),\n",
    "    'end': temp_date.strftime('%Y-%m-%d'),\n",
    "    'token': '8ycj3jSf2DJZOtX',\n",
    "    'emptydata': 'yes',\n",
    "    'currency': '',\n",
    "    'dateFormat': 'nbno',\n",
    "    'numberFormat': 'nothousandsdot',\n",
    "    'fileformat': 'csv',\n",
    "    'headers': 'no'\n",
    "}\n",
    "\n",
    "dataUrl = f'https://syspower5.skm.no/api/webquery/execute?{url.urlencode(request)}'\n",
    "temp_data = pd.read_csv(dataUrl, sep=';', index_col=0, parse_dates=True, dayfirst=True,\n",
    "                        header=None, names = ['ds'] + column_names_exog).interpolate().reset_index()\n",
    "\n",
    "temp_data['ds'] = pd.to_datetime(temp_data['ds'])\n",
    "temp_data.set_index('ds', inplace=True)\n",
    "temp_data = temp_data.resample('H').interpolate()\n",
    "temp_data = temp_data.reset_index()\n",
    "temp_data = temp_data[lambda x: x['ds'] < temp_date]\n",
    "temp_data.plot(x='ds', y='temp_np', figsize=(16, 5))\n",
    "temp_data.plot(x='ds', y='temp_fi', figsize=(16, 5))\n",
    "temp_data.plot(x='ds', y='temp_se', figsize=(16, 5))\n",
    "temp_data.plot(x='ds', y='temp_no', figsize=(16, 5))\n",
    "data = pd.merge(left=data, right=temp_data, on='ds', how='left')"
   ],
   "metadata": {
    "collapsed": false,
    "pycharm": {
     "name": "#%%\n"
    }
   }
  },
  {
   "cell_type": "code",
   "execution_count": 66,
   "outputs": [],
   "source": [
    "res = create_dataset(df=data, column_names=column_names)\n",
    "exog_df = add_covariates(df=temp_data, target_column_names=column_names).drop(columns='ds')\n",
    "res = pd.concat([res, exog_df], axis=1)"
   ],
   "metadata": {
    "collapsed": false,
    "pycharm": {
     "name": "#%%\n"
    }
   }
  },
  {
   "cell_type": "code",
   "execution_count": 67,
   "outputs": [],
   "source": [
    "train_data, val_data, test_data = split_dataframe(data=res, train=0.85, val=0.1, test=0.05)"
   ],
   "metadata": {
    "collapsed": false,
    "pycharm": {
     "name": "#%%\n"
    }
   }
  },
  {
   "cell_type": "code",
   "execution_count": 68,
   "outputs": [],
   "source": [
    "from pytorch_forecasting import TimeSeriesDataSet\n",
    "from pytorch_forecasting.data.encoders import EncoderNormalizer\n",
    "import pandas as pd\n",
    "\n",
    "encoder_length = 168\n",
    "decoder_length = 24\n",
    "\n",
    "training_cutoff = res['time_idx'].max() - decoder_length\n",
    "training_dataset = TimeSeriesDataSet(\n",
    "    train_data,\n",
    "    group_ids=['group'],\n",
    "    target='value',\n",
    "    time_idx='time_idx',\n",
    "    min_encoder_length=encoder_length,\n",
    "    max_encoder_length=encoder_length,\n",
    "    min_prediction_length=decoder_length,\n",
    "    max_prediction_length=decoder_length,\n",
    "    time_varying_unknown_reals=['value'],\n",
    "    time_varying_known_reals=column_names_exog,\n",
    "    time_varying_known_categoricals=['hour', 'weekday', 'day_type', 'country'],\n",
    "    target_normalizer=EncoderNormalizer(transformation='softplus'),\n",
    "    add_target_scales=True,\n",
    "    add_encoder_length=True\n",
    ")\n",
    "validation_dataset = TimeSeriesDataSet.from_dataset(\n",
    "    training_dataset,\n",
    "    val_data\n",
    ")\n",
    "test_dataset = TimeSeriesDataSet.from_dataset(\n",
    "    training_dataset,\n",
    "    test_data\n",
    ")\n",
    "batch_size = 64\n",
    "train_dataloader = training_dataset.to_dataloader(\n",
    "    train=True,\n",
    "    batch_size=batch_size,\n",
    "    num_workers=0\n",
    ")\n",
    "val_dataloader = validation_dataset.to_dataloader(\n",
    "    train=False,\n",
    "    batch_size=batch_size,\n",
    "    num_workers=0\n",
    ")\n",
    "test_dataloader = test_dataset.to_dataloader(\n",
    "    train=False,\n",
    "    batch_size=batch_size,\n",
    "    num_workers=0\n",
    ")"
   ],
   "metadata": {
    "collapsed": false,
    "pycharm": {
     "name": "#%%\n"
    }
   }
  },
  {
   "cell_type": "code",
   "execution_count": 69,
   "outputs": [],
   "source": [
    "import pytorch_forecasting as pf\n",
    "from pytorch_forecasting.models import NHiTS\n",
    "from pytorch_forecasting.metrics import SMAPE, QuantileLoss\n",
    "\"\"\"\n",
    "Trial 64 finished with value: 0.7538341879844666 and parameters: {'gradient_clip_val': 0.3118552233534979, 'hidden_size': 953, 'n_blocks': 1, 'backcast_loss_ratio': 0.27770843672977363, 'learning_rate': 0.002617164295547336}\n",
    "\"\"\"\n",
    "model = NHiTS.from_dataset(\n",
    "    training_dataset,\n",
    "    hidden_size=512,\n",
    "    learning_rate=1e-3,\n",
    "    #reduce_on_plateau_patience=7\n",
    ")"
   ],
   "metadata": {
    "collapsed": false,
    "pycharm": {
     "name": "#%%\n"
    }
   }
  },
  {
   "cell_type": "code",
   "execution_count": 70,
   "outputs": [
    {
     "name": "stderr",
     "output_type": "stream",
     "text": [
      "GPU available: False, used: False\n",
      "TPU available: False, using: 0 TPU cores\n",
      "IPU available: False, using: 0 IPUs\n"
     ]
    }
   ],
   "source": [
    "early_stop_callback = EarlyStopping(\n",
    "    monitor='val_loss',\n",
    "    min_delta=1e-4,\n",
    "    patience=15,\n",
    "    verbose=True,\n",
    "    mode='min'\n",
    ")\n",
    "\n",
    "trainer = pl.Trainer(\n",
    "    max_epochs=100,\n",
    "    gpus=[0] if torch.cuda.is_available() else None,\n",
    "    weights_summary='top',\n",
    "    callbacks=[early_stop_callback],\n",
    "    limit_train_batches=30,\n",
    "    limit_val_batches=10,\n",
    "    gradient_clip_val=0.15\n",
    ")"
   ],
   "metadata": {
    "collapsed": false,
    "pycharm": {
     "name": "#%%\n"
    }
   }
  },
  {
   "cell_type": "code",
   "execution_count": 71,
   "outputs": [],
   "source": [
    "# study = optimize_hyperparameters(\n",
    "#     train_dataloader,\n",
    "#     val_dataloader,\n",
    "#     model_path=\"optuna_test\",\n",
    "#     trainer_kwargs=dict(limit_train_batches=30, limit_val_batches=10),\n",
    "#     verbose=2# use Optuna to find ideal learning rate or use in-built learning rate finder\n",
    "# )"
   ],
   "metadata": {
    "collapsed": false,
    "pycharm": {
     "name": "#%%\n"
    }
   }
  },
  {
   "cell_type": "code",
   "execution_count": 72,
   "outputs": [
    {
     "name": "stderr",
     "output_type": "stream",
     "text": [
      "\n",
      "  | Name            | Type           | Params\n",
      "---------------------------------------------------\n",
      "0 | loss            | MASE           | 0     \n",
      "1 | logging_metrics | ModuleList     | 0     \n",
      "2 | embeddings      | MultiEmbedding | 273   \n",
      "3 | model           | NHiTS          | 9.0 M \n",
      "---------------------------------------------------\n",
      "9.0 M     Trainable params\n",
      "0         Non-trainable params\n",
      "9.0 M     Total params\n",
      "36.185    Total estimated model params size (MB)\n"
     ]
    },
    {
     "data": {
      "text/plain": "Validation sanity check: 0it [00:00, ?it/s]",
      "application/vnd.jupyter.widget-view+json": {
       "version_major": 2,
       "version_minor": 0,
       "model_id": "77a58fa29ff64ea7898f33dd99404934"
      }
     },
     "metadata": {},
     "output_type": "display_data"
    },
    {
     "name": "stderr",
     "output_type": "stream",
     "text": [
      "Global seed set to 666\n"
     ]
    },
    {
     "data": {
      "text/plain": "Training: 0it [00:00, ?it/s]",
      "application/vnd.jupyter.widget-view+json": {
       "version_major": 2,
       "version_minor": 0,
       "model_id": "b6dfc3008dfa4c37bf3988a30c66ef3d"
      }
     },
     "metadata": {},
     "output_type": "display_data"
    },
    {
     "data": {
      "text/plain": "Validating: 0it [00:00, ?it/s]",
      "application/vnd.jupyter.widget-view+json": {
       "version_major": 2,
       "version_minor": 0,
       "model_id": "11069525074444908cf24b2801c513e2"
      }
     },
     "metadata": {},
     "output_type": "display_data"
    },
    {
     "name": "stderr",
     "output_type": "stream",
     "text": [
      "Metric val_loss improved. New best score: 5.816\n"
     ]
    },
    {
     "data": {
      "text/plain": "Validating: 0it [00:00, ?it/s]",
      "application/vnd.jupyter.widget-view+json": {
       "version_major": 2,
       "version_minor": 0,
       "model_id": "d558f752e4df4fe8b969fe3b3688e3cc"
      }
     },
     "metadata": {},
     "output_type": "display_data"
    },
    {
     "name": "stderr",
     "output_type": "stream",
     "text": [
      "Metric val_loss improved by 2.093 >= min_delta = 0.0001. New best score: 3.722\n"
     ]
    },
    {
     "data": {
      "text/plain": "Validating: 0it [00:00, ?it/s]",
      "application/vnd.jupyter.widget-view+json": {
       "version_major": 2,
       "version_minor": 0,
       "model_id": "bdfbd3079e334582b403c84e716a4c4f"
      }
     },
     "metadata": {},
     "output_type": "display_data"
    },
    {
     "name": "stderr",
     "output_type": "stream",
     "text": [
      "Metric val_loss improved by 0.683 >= min_delta = 0.0001. New best score: 3.040\n"
     ]
    },
    {
     "data": {
      "text/plain": "Validating: 0it [00:00, ?it/s]",
      "application/vnd.jupyter.widget-view+json": {
       "version_major": 2,
       "version_minor": 0,
       "model_id": "53a4c0eee86d41809b02e3d71b6bca55"
      }
     },
     "metadata": {},
     "output_type": "display_data"
    },
    {
     "data": {
      "text/plain": "Validating: 0it [00:00, ?it/s]",
      "application/vnd.jupyter.widget-view+json": {
       "version_major": 2,
       "version_minor": 0,
       "model_id": "4d32eb7f5b9d4a558100787dbee3649a"
      }
     },
     "metadata": {},
     "output_type": "display_data"
    },
    {
     "data": {
      "text/plain": "Validating: 0it [00:00, ?it/s]",
      "application/vnd.jupyter.widget-view+json": {
       "version_major": 2,
       "version_minor": 0,
       "model_id": "653178098e76412b9e35f09c571b843a"
      }
     },
     "metadata": {},
     "output_type": "display_data"
    },
    {
     "name": "stderr",
     "output_type": "stream",
     "text": [
      "Metric val_loss improved by 0.628 >= min_delta = 0.0001. New best score: 2.412\n"
     ]
    },
    {
     "data": {
      "text/plain": "Validating: 0it [00:00, ?it/s]",
      "application/vnd.jupyter.widget-view+json": {
       "version_major": 2,
       "version_minor": 0,
       "model_id": "35e9945c8c5a447daa30fbdf0902076a"
      }
     },
     "metadata": {},
     "output_type": "display_data"
    },
    {
     "name": "stderr",
     "output_type": "stream",
     "text": [
      "Metric val_loss improved by 0.247 >= min_delta = 0.0001. New best score: 2.165\n"
     ]
    },
    {
     "data": {
      "text/plain": "Validating: 0it [00:00, ?it/s]",
      "application/vnd.jupyter.widget-view+json": {
       "version_major": 2,
       "version_minor": 0,
       "model_id": "5fa045e65e82493b8a3a9cab4243d2af"
      }
     },
     "metadata": {},
     "output_type": "display_data"
    },
    {
     "data": {
      "text/plain": "Validating: 0it [00:00, ?it/s]",
      "application/vnd.jupyter.widget-view+json": {
       "version_major": 2,
       "version_minor": 0,
       "model_id": "c49df44bf40e4b33b8eca5675f521c3d"
      }
     },
     "metadata": {},
     "output_type": "display_data"
    },
    {
     "name": "stderr",
     "output_type": "stream",
     "text": [
      "Metric val_loss improved by 0.120 >= min_delta = 0.0001. New best score: 2.045\n"
     ]
    },
    {
     "data": {
      "text/plain": "Validating: 0it [00:00, ?it/s]",
      "application/vnd.jupyter.widget-view+json": {
       "version_major": 2,
       "version_minor": 0,
       "model_id": "a44e3ae65aed445aa193ddf8033975bf"
      }
     },
     "metadata": {},
     "output_type": "display_data"
    },
    {
     "data": {
      "text/plain": "Validating: 0it [00:00, ?it/s]",
      "application/vnd.jupyter.widget-view+json": {
       "version_major": 2,
       "version_minor": 0,
       "model_id": "913df89d74dd487cb2c16b5dca304179"
      }
     },
     "metadata": {},
     "output_type": "display_data"
    },
    {
     "name": "stderr",
     "output_type": "stream",
     "text": [
      "Metric val_loss improved by 0.054 >= min_delta = 0.0001. New best score: 1.991\n"
     ]
    },
    {
     "data": {
      "text/plain": "Validating: 0it [00:00, ?it/s]",
      "application/vnd.jupyter.widget-view+json": {
       "version_major": 2,
       "version_minor": 0,
       "model_id": "bf3eb1a648db44e1baf68aed58a9cdb0"
      }
     },
     "metadata": {},
     "output_type": "display_data"
    },
    {
     "name": "stderr",
     "output_type": "stream",
     "text": [
      "Metric val_loss improved by 0.332 >= min_delta = 0.0001. New best score: 1.659\n"
     ]
    },
    {
     "data": {
      "text/plain": "Validating: 0it [00:00, ?it/s]",
      "application/vnd.jupyter.widget-view+json": {
       "version_major": 2,
       "version_minor": 0,
       "model_id": "aa465af639614b2c995b1a0c0839ba1b"
      }
     },
     "metadata": {},
     "output_type": "display_data"
    },
    {
     "name": "stderr",
     "output_type": "stream",
     "text": [
      "Metric val_loss improved by 0.122 >= min_delta = 0.0001. New best score: 1.537\n"
     ]
    },
    {
     "data": {
      "text/plain": "Validating: 0it [00:00, ?it/s]",
      "application/vnd.jupyter.widget-view+json": {
       "version_major": 2,
       "version_minor": 0,
       "model_id": "c66d326b223a44f0b5101237a292160c"
      }
     },
     "metadata": {},
     "output_type": "display_data"
    },
    {
     "data": {
      "text/plain": "Validating: 0it [00:00, ?it/s]",
      "application/vnd.jupyter.widget-view+json": {
       "version_major": 2,
       "version_minor": 0,
       "model_id": "3566fd3590054e19850783adcd99d8b6"
      }
     },
     "metadata": {},
     "output_type": "display_data"
    },
    {
     "data": {
      "text/plain": "Validating: 0it [00:00, ?it/s]",
      "application/vnd.jupyter.widget-view+json": {
       "version_major": 2,
       "version_minor": 0,
       "model_id": "a48b9f49910c4fae8eda10ccce839d24"
      }
     },
     "metadata": {},
     "output_type": "display_data"
    },
    {
     "data": {
      "text/plain": "Validating: 0it [00:00, ?it/s]",
      "application/vnd.jupyter.widget-view+json": {
       "version_major": 2,
       "version_minor": 0,
       "model_id": "fcb2f01e5cf64ab2aa0f874a3980e6b2"
      }
     },
     "metadata": {},
     "output_type": "display_data"
    },
    {
     "name": "stderr",
     "output_type": "stream",
     "text": [
      "Metric val_loss improved by 0.015 >= min_delta = 0.0001. New best score: 1.523\n"
     ]
    },
    {
     "data": {
      "text/plain": "Validating: 0it [00:00, ?it/s]",
      "application/vnd.jupyter.widget-view+json": {
       "version_major": 2,
       "version_minor": 0,
       "model_id": "486813d80c7842e5961423a679b227a7"
      }
     },
     "metadata": {},
     "output_type": "display_data"
    },
    {
     "data": {
      "text/plain": "Validating: 0it [00:00, ?it/s]",
      "application/vnd.jupyter.widget-view+json": {
       "version_major": 2,
       "version_minor": 0,
       "model_id": "d4a5ca54ea1e4852b524158572858326"
      }
     },
     "metadata": {},
     "output_type": "display_data"
    },
    {
     "data": {
      "text/plain": "Validating: 0it [00:00, ?it/s]",
      "application/vnd.jupyter.widget-view+json": {
       "version_major": 2,
       "version_minor": 0,
       "model_id": "76a466f399604ac8939fef1628f94bca"
      }
     },
     "metadata": {},
     "output_type": "display_data"
    },
    {
     "data": {
      "text/plain": "Validating: 0it [00:00, ?it/s]",
      "application/vnd.jupyter.widget-view+json": {
       "version_major": 2,
       "version_minor": 0,
       "model_id": "d51e4061b8334ef68fdf1e75c64e93af"
      }
     },
     "metadata": {},
     "output_type": "display_data"
    },
    {
     "name": "stderr",
     "output_type": "stream",
     "text": [
      "Metric val_loss improved by 0.132 >= min_delta = 0.0001. New best score: 1.391\n"
     ]
    },
    {
     "data": {
      "text/plain": "Validating: 0it [00:00, ?it/s]",
      "application/vnd.jupyter.widget-view+json": {
       "version_major": 2,
       "version_minor": 0,
       "model_id": "f77540b61f6e4afeba01381463491dcc"
      }
     },
     "metadata": {},
     "output_type": "display_data"
    },
    {
     "data": {
      "text/plain": "Validating: 0it [00:00, ?it/s]",
      "application/vnd.jupyter.widget-view+json": {
       "version_major": 2,
       "version_minor": 0,
       "model_id": "743c921f59b540edbd71f58a881ca3e9"
      }
     },
     "metadata": {},
     "output_type": "display_data"
    },
    {
     "name": "stderr",
     "output_type": "stream",
     "text": [
      "Metric val_loss improved by 0.157 >= min_delta = 0.0001. New best score: 1.234\n"
     ]
    },
    {
     "data": {
      "text/plain": "Validating: 0it [00:00, ?it/s]",
      "application/vnd.jupyter.widget-view+json": {
       "version_major": 2,
       "version_minor": 0,
       "model_id": "98ed066ae2e0415ca68a277f78c8f473"
      }
     },
     "metadata": {},
     "output_type": "display_data"
    },
    {
     "data": {
      "text/plain": "Validating: 0it [00:00, ?it/s]",
      "application/vnd.jupyter.widget-view+json": {
       "version_major": 2,
       "version_minor": 0,
       "model_id": "1fe46d49351b4c53a55a887ba2939b49"
      }
     },
     "metadata": {},
     "output_type": "display_data"
    },
    {
     "data": {
      "text/plain": "Validating: 0it [00:00, ?it/s]",
      "application/vnd.jupyter.widget-view+json": {
       "version_major": 2,
       "version_minor": 0,
       "model_id": "8fd9b35eeeb4401fb462e143a17f4748"
      }
     },
     "metadata": {},
     "output_type": "display_data"
    },
    {
     "data": {
      "text/plain": "Validating: 0it [00:00, ?it/s]",
      "application/vnd.jupyter.widget-view+json": {
       "version_major": 2,
       "version_minor": 0,
       "model_id": "eef870c2cd7845a38c3926f3a58ebbaa"
      }
     },
     "metadata": {},
     "output_type": "display_data"
    },
    {
     "data": {
      "text/plain": "Validating: 0it [00:00, ?it/s]",
      "application/vnd.jupyter.widget-view+json": {
       "version_major": 2,
       "version_minor": 0,
       "model_id": "368ac209d6074ad88714c6f408871ea2"
      }
     },
     "metadata": {},
     "output_type": "display_data"
    },
    {
     "data": {
      "text/plain": "Validating: 0it [00:00, ?it/s]",
      "application/vnd.jupyter.widget-view+json": {
       "version_major": 2,
       "version_minor": 0,
       "model_id": "d7767d94a8e2469bb3338b9644a622f5"
      }
     },
     "metadata": {},
     "output_type": "display_data"
    },
    {
     "data": {
      "text/plain": "Validating: 0it [00:00, ?it/s]",
      "application/vnd.jupyter.widget-view+json": {
       "version_major": 2,
       "version_minor": 0,
       "model_id": "c38a820227914004aa7e805fb0a6eb61"
      }
     },
     "metadata": {},
     "output_type": "display_data"
    },
    {
     "name": "stderr",
     "output_type": "stream",
     "text": [
      "Metric val_loss improved by 0.010 >= min_delta = 0.0001. New best score: 1.224\n"
     ]
    },
    {
     "data": {
      "text/plain": "Validating: 0it [00:00, ?it/s]",
      "application/vnd.jupyter.widget-view+json": {
       "version_major": 2,
       "version_minor": 0,
       "model_id": "1def0c5b33804ee8a718617f15cd1da9"
      }
     },
     "metadata": {},
     "output_type": "display_data"
    },
    {
     "name": "stderr",
     "output_type": "stream",
     "text": [
      "Metric val_loss improved by 0.104 >= min_delta = 0.0001. New best score: 1.120\n"
     ]
    },
    {
     "data": {
      "text/plain": "Validating: 0it [00:00, ?it/s]",
      "application/vnd.jupyter.widget-view+json": {
       "version_major": 2,
       "version_minor": 0,
       "model_id": "9c8acf9106514b9a9fcbc010579ab0e2"
      }
     },
     "metadata": {},
     "output_type": "display_data"
    },
    {
     "name": "stderr",
     "output_type": "stream",
     "text": [
      "Metric val_loss improved by 0.065 >= min_delta = 0.0001. New best score: 1.055\n"
     ]
    },
    {
     "data": {
      "text/plain": "Validating: 0it [00:00, ?it/s]",
      "application/vnd.jupyter.widget-view+json": {
       "version_major": 2,
       "version_minor": 0,
       "model_id": "8671f446306442dba34b60f6f07df3dc"
      }
     },
     "metadata": {},
     "output_type": "display_data"
    },
    {
     "data": {
      "text/plain": "Validating: 0it [00:00, ?it/s]",
      "application/vnd.jupyter.widget-view+json": {
       "version_major": 2,
       "version_minor": 0,
       "model_id": "035dc2e1959a465f876d48b352c8cd2b"
      }
     },
     "metadata": {},
     "output_type": "display_data"
    },
    {
     "data": {
      "text/plain": "Validating: 0it [00:00, ?it/s]",
      "application/vnd.jupyter.widget-view+json": {
       "version_major": 2,
       "version_minor": 0,
       "model_id": "632b4a039af8474d97b07c386b5ba540"
      }
     },
     "metadata": {},
     "output_type": "display_data"
    },
    {
     "data": {
      "text/plain": "Validating: 0it [00:00, ?it/s]",
      "application/vnd.jupyter.widget-view+json": {
       "version_major": 2,
       "version_minor": 0,
       "model_id": "ab6b093ebf6f413dafd2b1e54a8edd2d"
      }
     },
     "metadata": {},
     "output_type": "display_data"
    },
    {
     "name": "stderr",
     "output_type": "stream",
     "text": [
      "Metric val_loss improved by 0.005 >= min_delta = 0.0001. New best score: 1.050\n"
     ]
    },
    {
     "data": {
      "text/plain": "Validating: 0it [00:00, ?it/s]",
      "application/vnd.jupyter.widget-view+json": {
       "version_major": 2,
       "version_minor": 0,
       "model_id": "067d59223456402ebcde02c2830f3c42"
      }
     },
     "metadata": {},
     "output_type": "display_data"
    },
    {
     "data": {
      "text/plain": "Validating: 0it [00:00, ?it/s]",
      "application/vnd.jupyter.widget-view+json": {
       "version_major": 2,
       "version_minor": 0,
       "model_id": "db9ee39492d5462492eb18f10f134c06"
      }
     },
     "metadata": {},
     "output_type": "display_data"
    },
    {
     "data": {
      "text/plain": "Validating: 0it [00:00, ?it/s]",
      "application/vnd.jupyter.widget-view+json": {
       "version_major": 2,
       "version_minor": 0,
       "model_id": "0cca8661960e4bd3a38b0ca6b18545e1"
      }
     },
     "metadata": {},
     "output_type": "display_data"
    },
    {
     "data": {
      "text/plain": "Validating: 0it [00:00, ?it/s]",
      "application/vnd.jupyter.widget-view+json": {
       "version_major": 2,
       "version_minor": 0,
       "model_id": "e3aa499bc44b40ef9f5d2606227c76db"
      }
     },
     "metadata": {},
     "output_type": "display_data"
    },
    {
     "name": "stderr",
     "output_type": "stream",
     "text": [
      "Metric val_loss improved by 0.083 >= min_delta = 0.0001. New best score: 0.968\n"
     ]
    },
    {
     "data": {
      "text/plain": "Validating: 0it [00:00, ?it/s]",
      "application/vnd.jupyter.widget-view+json": {
       "version_major": 2,
       "version_minor": 0,
       "model_id": "a28da6271e2b4ced82d384e506a30f4e"
      }
     },
     "metadata": {},
     "output_type": "display_data"
    },
    {
     "data": {
      "text/plain": "Validating: 0it [00:00, ?it/s]",
      "application/vnd.jupyter.widget-view+json": {
       "version_major": 2,
       "version_minor": 0,
       "model_id": "33f0e2954b8946c1b031845f0e3cd2b9"
      }
     },
     "metadata": {},
     "output_type": "display_data"
    },
    {
     "data": {
      "text/plain": "Validating: 0it [00:00, ?it/s]",
      "application/vnd.jupyter.widget-view+json": {
       "version_major": 2,
       "version_minor": 0,
       "model_id": "8215be1995044b7493d8dab65969c91c"
      }
     },
     "metadata": {},
     "output_type": "display_data"
    },
    {
     "data": {
      "text/plain": "Validating: 0it [00:00, ?it/s]",
      "application/vnd.jupyter.widget-view+json": {
       "version_major": 2,
       "version_minor": 0,
       "model_id": "ac56327178014b7b96d9c4edb3818692"
      }
     },
     "metadata": {},
     "output_type": "display_data"
    },
    {
     "data": {
      "text/plain": "Validating: 0it [00:00, ?it/s]",
      "application/vnd.jupyter.widget-view+json": {
       "version_major": 2,
       "version_minor": 0,
       "model_id": "880bd176cc12423caf131b2916106a77"
      }
     },
     "metadata": {},
     "output_type": "display_data"
    },
    {
     "name": "stderr",
     "output_type": "stream",
     "text": [
      "Metric val_loss improved by 0.019 >= min_delta = 0.0001. New best score: 0.948\n"
     ]
    },
    {
     "data": {
      "text/plain": "Validating: 0it [00:00, ?it/s]",
      "application/vnd.jupyter.widget-view+json": {
       "version_major": 2,
       "version_minor": 0,
       "model_id": "872d7cf25c384dcd91047f2c100aaff9"
      }
     },
     "metadata": {},
     "output_type": "display_data"
    },
    {
     "data": {
      "text/plain": "Validating: 0it [00:00, ?it/s]",
      "application/vnd.jupyter.widget-view+json": {
       "version_major": 2,
       "version_minor": 0,
       "model_id": "559dd74648ca460da849d80c09cc3dbf"
      }
     },
     "metadata": {},
     "output_type": "display_data"
    },
    {
     "name": "stderr",
     "output_type": "stream",
     "text": [
      "Metric val_loss improved by 0.016 >= min_delta = 0.0001. New best score: 0.932\n"
     ]
    },
    {
     "data": {
      "text/plain": "Validating: 0it [00:00, ?it/s]",
      "application/vnd.jupyter.widget-view+json": {
       "version_major": 2,
       "version_minor": 0,
       "model_id": "385c331f50e2417382f24514399a4277"
      }
     },
     "metadata": {},
     "output_type": "display_data"
    },
    {
     "data": {
      "text/plain": "Validating: 0it [00:00, ?it/s]",
      "application/vnd.jupyter.widget-view+json": {
       "version_major": 2,
       "version_minor": 0,
       "model_id": "5598291415ce4eb3a65fdfc7e56d9339"
      }
     },
     "metadata": {},
     "output_type": "display_data"
    },
    {
     "data": {
      "text/plain": "Validating: 0it [00:00, ?it/s]",
      "application/vnd.jupyter.widget-view+json": {
       "version_major": 2,
       "version_minor": 0,
       "model_id": "b898c9ff33f845b8a8394fd5ef4cc890"
      }
     },
     "metadata": {},
     "output_type": "display_data"
    },
    {
     "data": {
      "text/plain": "Validating: 0it [00:00, ?it/s]",
      "application/vnd.jupyter.widget-view+json": {
       "version_major": 2,
       "version_minor": 0,
       "model_id": "535014566eeb4b82a5b437ec9b49ebeb"
      }
     },
     "metadata": {},
     "output_type": "display_data"
    },
    {
     "data": {
      "text/plain": "Validating: 0it [00:00, ?it/s]",
      "application/vnd.jupyter.widget-view+json": {
       "version_major": 2,
       "version_minor": 0,
       "model_id": "82b81589fd484709a3281f36aa53f680"
      }
     },
     "metadata": {},
     "output_type": "display_data"
    },
    {
     "data": {
      "text/plain": "Validating: 0it [00:00, ?it/s]",
      "application/vnd.jupyter.widget-view+json": {
       "version_major": 2,
       "version_minor": 0,
       "model_id": "ca9e29247cdb4130b8b8e25ee900b4d1"
      }
     },
     "metadata": {},
     "output_type": "display_data"
    },
    {
     "data": {
      "text/plain": "Validating: 0it [00:00, ?it/s]",
      "application/vnd.jupyter.widget-view+json": {
       "version_major": 2,
       "version_minor": 0,
       "model_id": "840a3e5a82564c44be7c493046f3b7d2"
      }
     },
     "metadata": {},
     "output_type": "display_data"
    },
    {
     "data": {
      "text/plain": "Validating: 0it [00:00, ?it/s]",
      "application/vnd.jupyter.widget-view+json": {
       "version_major": 2,
       "version_minor": 0,
       "model_id": "934968f28da14730aad509f95a191f3b"
      }
     },
     "metadata": {},
     "output_type": "display_data"
    },
    {
     "data": {
      "text/plain": "Validating: 0it [00:00, ?it/s]",
      "application/vnd.jupyter.widget-view+json": {
       "version_major": 2,
       "version_minor": 0,
       "model_id": "86111e8fee3448da90d688a578dc5d5d"
      }
     },
     "metadata": {},
     "output_type": "display_data"
    },
    {
     "data": {
      "text/plain": "Validating: 0it [00:00, ?it/s]",
      "application/vnd.jupyter.widget-view+json": {
       "version_major": 2,
       "version_minor": 0,
       "model_id": "3f3b05213b6b4bd0b4f388a5246fc58c"
      }
     },
     "metadata": {},
     "output_type": "display_data"
    },
    {
     "data": {
      "text/plain": "Validating: 0it [00:00, ?it/s]",
      "application/vnd.jupyter.widget-view+json": {
       "version_major": 2,
       "version_minor": 0,
       "model_id": "08bbb8a2dfd944ce96d7bb5f97489651"
      }
     },
     "metadata": {},
     "output_type": "display_data"
    },
    {
     "name": "stderr",
     "output_type": "stream",
     "text": [
      "Metric val_loss improved by 0.001 >= min_delta = 0.0001. New best score: 0.931\n"
     ]
    },
    {
     "data": {
      "text/plain": "Validating: 0it [00:00, ?it/s]",
      "application/vnd.jupyter.widget-view+json": {
       "version_major": 2,
       "version_minor": 0,
       "model_id": "57847182d0244ca485b16d863bda8ae5"
      }
     },
     "metadata": {},
     "output_type": "display_data"
    },
    {
     "data": {
      "text/plain": "Validating: 0it [00:00, ?it/s]",
      "application/vnd.jupyter.widget-view+json": {
       "version_major": 2,
       "version_minor": 0,
       "model_id": "0a03a82a9bb2463182279c4d93d50190"
      }
     },
     "metadata": {},
     "output_type": "display_data"
    },
    {
     "data": {
      "text/plain": "Validating: 0it [00:00, ?it/s]",
      "application/vnd.jupyter.widget-view+json": {
       "version_major": 2,
       "version_minor": 0,
       "model_id": "0db8d5f5fe0d47b282614068cc8cfc73"
      }
     },
     "metadata": {},
     "output_type": "display_data"
    },
    {
     "data": {
      "text/plain": "Validating: 0it [00:00, ?it/s]",
      "application/vnd.jupyter.widget-view+json": {
       "version_major": 2,
       "version_minor": 0,
       "model_id": "16d82dc816804210863981101ad54a03"
      }
     },
     "metadata": {},
     "output_type": "display_data"
    },
    {
     "data": {
      "text/plain": "Validating: 0it [00:00, ?it/s]",
      "application/vnd.jupyter.widget-view+json": {
       "version_major": 2,
       "version_minor": 0,
       "model_id": "b23454aff58643229ed904c8d49a3864"
      }
     },
     "metadata": {},
     "output_type": "display_data"
    },
    {
     "data": {
      "text/plain": "Validating: 0it [00:00, ?it/s]",
      "application/vnd.jupyter.widget-view+json": {
       "version_major": 2,
       "version_minor": 0,
       "model_id": "818ef6cc2989436e820b49e824356ecb"
      }
     },
     "metadata": {},
     "output_type": "display_data"
    },
    {
     "data": {
      "text/plain": "Validating: 0it [00:00, ?it/s]",
      "application/vnd.jupyter.widget-view+json": {
       "version_major": 2,
       "version_minor": 0,
       "model_id": "c25bdea96530470e805afe203cf203d5"
      }
     },
     "metadata": {},
     "output_type": "display_data"
    },
    {
     "data": {
      "text/plain": "Validating: 0it [00:00, ?it/s]",
      "application/vnd.jupyter.widget-view+json": {
       "version_major": 2,
       "version_minor": 0,
       "model_id": "ebd6816fbc6742a7b86a4044fe049f5e"
      }
     },
     "metadata": {},
     "output_type": "display_data"
    },
    {
     "data": {
      "text/plain": "Validating: 0it [00:00, ?it/s]",
      "application/vnd.jupyter.widget-view+json": {
       "version_major": 2,
       "version_minor": 0,
       "model_id": "a7c77d3148124d2693cb378f9bbb50c0"
      }
     },
     "metadata": {},
     "output_type": "display_data"
    },
    {
     "name": "stderr",
     "output_type": "stream",
     "text": [
      "Metric val_loss improved by 0.031 >= min_delta = 0.0001. New best score: 0.899\n"
     ]
    },
    {
     "data": {
      "text/plain": "Validating: 0it [00:00, ?it/s]",
      "application/vnd.jupyter.widget-view+json": {
       "version_major": 2,
       "version_minor": 0,
       "model_id": "b833ffcb280e4b8c93396ae52dd5c1a9"
      }
     },
     "metadata": {},
     "output_type": "display_data"
    },
    {
     "data": {
      "text/plain": "Validating: 0it [00:00, ?it/s]",
      "application/vnd.jupyter.widget-view+json": {
       "version_major": 2,
       "version_minor": 0,
       "model_id": "56fe57311bed400d8fafed4529fada0e"
      }
     },
     "metadata": {},
     "output_type": "display_data"
    },
    {
     "data": {
      "text/plain": "Validating: 0it [00:00, ?it/s]",
      "application/vnd.jupyter.widget-view+json": {
       "version_major": 2,
       "version_minor": 0,
       "model_id": "b7ec367c2d0c407b86dd1874adf031a3"
      }
     },
     "metadata": {},
     "output_type": "display_data"
    },
    {
     "data": {
      "text/plain": "Validating: 0it [00:00, ?it/s]",
      "application/vnd.jupyter.widget-view+json": {
       "version_major": 2,
       "version_minor": 0,
       "model_id": "b89bc2fc93ab40d3af541d3080e93fcf"
      }
     },
     "metadata": {},
     "output_type": "display_data"
    },
    {
     "data": {
      "text/plain": "Validating: 0it [00:00, ?it/s]",
      "application/vnd.jupyter.widget-view+json": {
       "version_major": 2,
       "version_minor": 0,
       "model_id": "928adeb8ee2d4717aad301c66cdf39bd"
      }
     },
     "metadata": {},
     "output_type": "display_data"
    },
    {
     "data": {
      "text/plain": "Validating: 0it [00:00, ?it/s]",
      "application/vnd.jupyter.widget-view+json": {
       "version_major": 2,
       "version_minor": 0,
       "model_id": "b470bce597d14f5ea6ecfb7d4819aad4"
      }
     },
     "metadata": {},
     "output_type": "display_data"
    },
    {
     "data": {
      "text/plain": "Validating: 0it [00:00, ?it/s]",
      "application/vnd.jupyter.widget-view+json": {
       "version_major": 2,
       "version_minor": 0,
       "model_id": "811599d6665e4151b66b720e2cb7d28f"
      }
     },
     "metadata": {},
     "output_type": "display_data"
    },
    {
     "data": {
      "text/plain": "Validating: 0it [00:00, ?it/s]",
      "application/vnd.jupyter.widget-view+json": {
       "version_major": 2,
       "version_minor": 0,
       "model_id": "ffaf058e8d2a4a79a1ccaf548da50cd0"
      }
     },
     "metadata": {},
     "output_type": "display_data"
    },
    {
     "data": {
      "text/plain": "Validating: 0it [00:00, ?it/s]",
      "application/vnd.jupyter.widget-view+json": {
       "version_major": 2,
       "version_minor": 0,
       "model_id": "adc97ce6bc6f41b1912c71d645a303d4"
      }
     },
     "metadata": {},
     "output_type": "display_data"
    },
    {
     "data": {
      "text/plain": "Validating: 0it [00:00, ?it/s]",
      "application/vnd.jupyter.widget-view+json": {
       "version_major": 2,
       "version_minor": 0,
       "model_id": "56adbc5e5fe04f40acdf095d33be976f"
      }
     },
     "metadata": {},
     "output_type": "display_data"
    },
    {
     "data": {
      "text/plain": "Validating: 0it [00:00, ?it/s]",
      "application/vnd.jupyter.widget-view+json": {
       "version_major": 2,
       "version_minor": 0,
       "model_id": "0380b8fee0414cc9a52a563e675eb326"
      }
     },
     "metadata": {},
     "output_type": "display_data"
    },
    {
     "name": "stderr",
     "output_type": "stream",
     "text": [
      "Metric val_loss improved by 0.007 >= min_delta = 0.0001. New best score: 0.892\n"
     ]
    },
    {
     "data": {
      "text/plain": "Validating: 0it [00:00, ?it/s]",
      "application/vnd.jupyter.widget-view+json": {
       "version_major": 2,
       "version_minor": 0,
       "model_id": "95b2e8694316484db203bb9d2df74d3b"
      }
     },
     "metadata": {},
     "output_type": "display_data"
    },
    {
     "data": {
      "text/plain": "Validating: 0it [00:00, ?it/s]",
      "application/vnd.jupyter.widget-view+json": {
       "version_major": 2,
       "version_minor": 0,
       "model_id": "b8f3df26a73e4aec9cb8d1666afb5cd4"
      }
     },
     "metadata": {},
     "output_type": "display_data"
    },
    {
     "data": {
      "text/plain": "Validating: 0it [00:00, ?it/s]",
      "application/vnd.jupyter.widget-view+json": {
       "version_major": 2,
       "version_minor": 0,
       "model_id": "e19738aa0a1b4aa4bec45c50676b8bbb"
      }
     },
     "metadata": {},
     "output_type": "display_data"
    },
    {
     "data": {
      "text/plain": "Validating: 0it [00:00, ?it/s]",
      "application/vnd.jupyter.widget-view+json": {
       "version_major": 2,
       "version_minor": 0,
       "model_id": "a335d999a3e24822a04c9a36604a7db9"
      }
     },
     "metadata": {},
     "output_type": "display_data"
    },
    {
     "data": {
      "text/plain": "Validating: 0it [00:00, ?it/s]",
      "application/vnd.jupyter.widget-view+json": {
       "version_major": 2,
       "version_minor": 0,
       "model_id": "9812b459f811478ebb710fc36ecda7cc"
      }
     },
     "metadata": {},
     "output_type": "display_data"
    },
    {
     "data": {
      "text/plain": "Validating: 0it [00:00, ?it/s]",
      "application/vnd.jupyter.widget-view+json": {
       "version_major": 2,
       "version_minor": 0,
       "model_id": "4af75eecebfa4b3f9f17d51bfec366f2"
      }
     },
     "metadata": {},
     "output_type": "display_data"
    },
    {
     "data": {
      "text/plain": "Validating: 0it [00:00, ?it/s]",
      "application/vnd.jupyter.widget-view+json": {
       "version_major": 2,
       "version_minor": 0,
       "model_id": "2541faf554b848cdbe1b8b0cc9fa3de5"
      }
     },
     "metadata": {},
     "output_type": "display_data"
    },
    {
     "data": {
      "text/plain": "Validating: 0it [00:00, ?it/s]",
      "application/vnd.jupyter.widget-view+json": {
       "version_major": 2,
       "version_minor": 0,
       "model_id": "090d49c773ff4d10a30f31dea871c627"
      }
     },
     "metadata": {},
     "output_type": "display_data"
    },
    {
     "name": "stderr",
     "output_type": "stream",
     "text": [
      "Metric val_loss improved by 0.016 >= min_delta = 0.0001. New best score: 0.876\n"
     ]
    },
    {
     "data": {
      "text/plain": "Validating: 0it [00:00, ?it/s]",
      "application/vnd.jupyter.widget-view+json": {
       "version_major": 2,
       "version_minor": 0,
       "model_id": "f341b1e7485141198c675022dfc16942"
      }
     },
     "metadata": {},
     "output_type": "display_data"
    },
    {
     "data": {
      "text/plain": "Validating: 0it [00:00, ?it/s]",
      "application/vnd.jupyter.widget-view+json": {
       "version_major": 2,
       "version_minor": 0,
       "model_id": "c655ad869474469988f586f92f7d5ebc"
      }
     },
     "metadata": {},
     "output_type": "display_data"
    },
    {
     "data": {
      "text/plain": "Validating: 0it [00:00, ?it/s]",
      "application/vnd.jupyter.widget-view+json": {
       "version_major": 2,
       "version_minor": 0,
       "model_id": "d1692a7bc8c147be9c4f2e5269e125ce"
      }
     },
     "metadata": {},
     "output_type": "display_data"
    },
    {
     "data": {
      "text/plain": "Validating: 0it [00:00, ?it/s]",
      "application/vnd.jupyter.widget-view+json": {
       "version_major": 2,
       "version_minor": 0,
       "model_id": "2783e43bf27e4412a08276f27be3c1ee"
      }
     },
     "metadata": {},
     "output_type": "display_data"
    },
    {
     "data": {
      "text/plain": "Validating: 0it [00:00, ?it/s]",
      "application/vnd.jupyter.widget-view+json": {
       "version_major": 2,
       "version_minor": 0,
       "model_id": "f85c831e01734d3dbb182e99c06041ee"
      }
     },
     "metadata": {},
     "output_type": "display_data"
    },
    {
     "name": "stderr",
     "output_type": "stream",
     "text": [
      "Metric val_loss improved by 0.023 >= min_delta = 0.0001. New best score: 0.853\n"
     ]
    },
    {
     "data": {
      "text/plain": "Validating: 0it [00:00, ?it/s]",
      "application/vnd.jupyter.widget-view+json": {
       "version_major": 2,
       "version_minor": 0,
       "model_id": "91caca7d124c4284a99140fbafb6c832"
      }
     },
     "metadata": {},
     "output_type": "display_data"
    },
    {
     "name": "stderr",
     "output_type": "stream",
     "text": [
      "Metric val_loss improved by 0.038 >= min_delta = 0.0001. New best score: 0.815\n"
     ]
    },
    {
     "data": {
      "text/plain": "Validating: 0it [00:00, ?it/s]",
      "application/vnd.jupyter.widget-view+json": {
       "version_major": 2,
       "version_minor": 0,
       "model_id": "917837d163664b91a02bb8427d6b592c"
      }
     },
     "metadata": {},
     "output_type": "display_data"
    },
    {
     "data": {
      "text/plain": "Validating: 0it [00:00, ?it/s]",
      "application/vnd.jupyter.widget-view+json": {
       "version_major": 2,
       "version_minor": 0,
       "model_id": "cac60933c0e84fd5a756340fcce2222a"
      }
     },
     "metadata": {},
     "output_type": "display_data"
    },
    {
     "data": {
      "text/plain": "Validating: 0it [00:00, ?it/s]",
      "application/vnd.jupyter.widget-view+json": {
       "version_major": 2,
       "version_minor": 0,
       "model_id": "11ec9c6d202543b89d955f328bae887a"
      }
     },
     "metadata": {},
     "output_type": "display_data"
    },
    {
     "data": {
      "text/plain": "Validating: 0it [00:00, ?it/s]",
      "application/vnd.jupyter.widget-view+json": {
       "version_major": 2,
       "version_minor": 0,
       "model_id": "d9987e0085bd4bf78bac70b1d94d1ce8"
      }
     },
     "metadata": {},
     "output_type": "display_data"
    },
    {
     "data": {
      "text/plain": "Validating: 0it [00:00, ?it/s]",
      "application/vnd.jupyter.widget-view+json": {
       "version_major": 2,
       "version_minor": 0,
       "model_id": "b663197c141c49fe92ba461afcecabac"
      }
     },
     "metadata": {},
     "output_type": "display_data"
    },
    {
     "data": {
      "text/plain": "Validating: 0it [00:00, ?it/s]",
      "application/vnd.jupyter.widget-view+json": {
       "version_major": 2,
       "version_minor": 0,
       "model_id": "ec31828588a54be085b4b06a2c6a18e8"
      }
     },
     "metadata": {},
     "output_type": "display_data"
    },
    {
     "data": {
      "text/plain": "Validating: 0it [00:00, ?it/s]",
      "application/vnd.jupyter.widget-view+json": {
       "version_major": 2,
       "version_minor": 0,
       "model_id": "3adb0720d97845c19010dfe410ec5c83"
      }
     },
     "metadata": {},
     "output_type": "display_data"
    },
    {
     "data": {
      "text/plain": "Validating: 0it [00:00, ?it/s]",
      "application/vnd.jupyter.widget-view+json": {
       "version_major": 2,
       "version_minor": 0,
       "model_id": "6ffe100e9f9c4b1b89467a0d69579cfd"
      }
     },
     "metadata": {},
     "output_type": "display_data"
    }
   ],
   "source": [
    "trainer.fit(\n",
    "    model,\n",
    "    train_dataloaders=train_dataloader,\n",
    "    val_dataloaders=val_dataloader\n",
    ")"
   ],
   "metadata": {
    "collapsed": false,
    "pycharm": {
     "name": "#%%\n"
    }
   }
  },
  {
   "cell_type": "code",
   "execution_count": 73,
   "outputs": [
    {
     "data": {
      "text/plain": "Testing: 0it [00:00, ?it/s]",
      "application/vnd.jupyter.widget-view+json": {
       "version_major": 2,
       "version_minor": 0,
       "model_id": "d7e3db2e553042c3aa84ea9c60e3038e"
      }
     },
     "metadata": {},
     "output_type": "display_data"
    },
    {
     "name": "stdout",
     "output_type": "stream",
     "text": [
      "--------------------------------------------------------------------------------\n",
      "DATALOADER:0 TEST RESULTS\n",
      "{'test_MAE': 0.5457758903503418,\n",
      " 'test_MAPE': 0.15662702918052673,\n",
      " 'test_MASE': 6.030091285705566,\n",
      " 'test_RMSE': 0.6065418124198914,\n",
      " 'test_SMAPE': 0.13553625345230103,\n",
      " 'test_loss': 6.030091285705566}\n",
      "--------------------------------------------------------------------------------\n"
     ]
    },
    {
     "data": {
      "text/plain": "[{'test_loss': 6.030091285705566,\n  'test_SMAPE': 0.13553625345230103,\n  'test_MAE': 0.5457758903503418,\n  'test_RMSE': 0.6065418124198914,\n  'test_MAPE': 0.15662702918052673,\n  'test_MASE': 6.030091285705566}]"
     },
     "execution_count": 73,
     "metadata": {},
     "output_type": "execute_result"
    }
   ],
   "source": [
    "best_model_path = trainer.checkpoint_callback.best_model_path\n",
    "best_model = NHiTS.load_from_checkpoint(best_model_path)\n",
    "trainer.test(model=best_model, dataloaders=test_dataloader)"
   ],
   "metadata": {
    "collapsed": false,
    "pycharm": {
     "name": "#%%\n"
    }
   }
  },
  {
   "cell_type": "code",
   "execution_count": 74,
   "outputs": [],
   "source": [
    "data['cnp_fi_pred'] = 0\n",
    "\n",
    "dates_range = pd.date_range(\n",
    "    start=history_end_date + timedelta(hours=decoder_length),\n",
    "    end=forecast_end_date,\n",
    "    freq='D'\n",
    ")\n",
    "for current_date in dates_range:\n",
    "    cur_df = res.loc[\n",
    "             (res['ds'] >= current_date - timedelta(hours=encoder_length+decoder_length)) &\n",
    "             (res['ds'] < current_date),\n",
    "             :\n",
    "             ]\n",
    "    prediction = best_model.predict(\n",
    "        cur_df,\n",
    "        mode='prediction',\n",
    "        return_x=False\n",
    "    )\n",
    "    data.loc[\n",
    "        (data['ds'] >= current_date - timedelta(hours=decoder_length)) &\n",
    "        (data['ds'] < current_date),\n",
    "        'cnp_fi_pred'\n",
    "    ] = prediction.detach().numpy()[-1, :]"
   ],
   "metadata": {
    "collapsed": false,
    "pycharm": {
     "name": "#%%\n"
    }
   }
  },
  {
   "cell_type": "code",
   "execution_count": 75,
   "outputs": [
    {
     "data": {
      "text/plain": "<AxesSubplot:xlabel='ds'>"
     },
     "execution_count": 75,
     "metadata": {},
     "output_type": "execute_result"
    },
    {
     "data": {
      "text/plain": "<Figure size 1152x432 with 1 Axes>",
      "image/png": "[encoded data removed]"
     },
     "metadata": {
      "needs_background": "light"
     },
     "output_type": "display_data"
    }
   ],
   "source": [
    "forecast_results = data.loc[\n",
    "    (data['ds'] >= history_end_date) &\n",
    "    (data['ds'] < forecast_end_date),\n",
    "    ['ds', 'cnp_fi', 'cnp_fi_pred']\n",
    "].set_index('ds')\n",
    "forecast_results.plot(figsize=(16, 6))"
   ],
   "metadata": {
    "collapsed": false,
    "pycharm": {
     "name": "#%%\n"
    }
   }
  },
  {
   "cell_type": "code",
   "execution_count": 76,
   "outputs": [
    {
     "name": "stdout",
     "output_type": "stream",
     "text": [
      "MAE = 0.4539127917516799\n"
     ]
    }
   ],
   "source": [
    "from sklearn.metrics import mean_absolute_error\n",
    "mae = mean_absolute_error(\n",
    "    y_true=forecast_results.loc[:, 'cnp_fi'],\n",
    "    y_pred=forecast_results.loc[:, 'cnp_fi_pred']\n",
    ")\n",
    "print(f'MAE = {mae}')"
   ],
   "metadata": {
    "collapsed": false,
    "pycharm": {
     "name": "#%%\n"
    }
   }
  },
  {
   "cell_type": "code",
   "execution_count": 77,
   "outputs": [
    {
     "data": {
      "text/plain": "798.2515607561382"
     },
     "execution_count": 77,
     "metadata": {},
     "output_type": "execute_result"
    }
   ],
   "source": [
    "forecast_results.reset_index(inplace=True)\n",
    "forecast_results['day'] = forecast_results.apply(lambda x: x['ds'].day, axis=1)\n",
    "forecast_results['hour'] = forecast_results.apply(lambda x: x['ds'].hour, axis=1)\n",
    "forecast_results['diff'] = forecast_results.apply(lambda x: np.abs(x['cnp_fi'] - x['cnp_fi_pred']), axis=1)\n",
    "diff = forecast_results.groupby(by='day').max()['diff'].to_numpy()\n",
    "np.mean(diff * 1000)"
   ],
   "metadata": {
    "collapsed": false,
    "pycharm": {
     "name": "#%%\n"
    }
   }
  },
  {
   "cell_type": "code",
   "execution_count": 78,
   "outputs": [
    {
     "data": {
      "text/plain": "array([0.31385193, 1.97442837, 0.41964813, 0.50097977, 1.00022366,\n       0.62848434, 0.75014473])"
     },
     "execution_count": 78,
     "metadata": {},
     "output_type": "execute_result"
    }
   ],
   "source": [
    "diff"
   ],
   "metadata": {
    "collapsed": false,
    "pycharm": {
     "name": "#%%\n"
    }
   }
  }
 ],
 "metadata": {
  "kernelspec": {
   "display_name": "Python 3",
   "language": "python",
   "name": "python3"
  },
  "language_info": {
   "codemirror_mode": {
    "name": "ipython",
    "version": 2
   },
   "file_extension": ".py",
   "mimetype": "text/x-python",
   "name": "python",
   "nbconvert_exporter": "python",
   "pygments_lexer": "ipython2",
   "version": "2.7.6"
  }
 },
 "nbformat": 4,
 "nbformat_minor": 0
}